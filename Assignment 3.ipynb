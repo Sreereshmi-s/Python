{
 "cells": [
  {
   "cell_type": "markdown",
   "id": "be8e2835-06d6-459c-9277-42da351199c7",
   "metadata": {},
   "source": [
    "## Conditional and Looping Statements"
   ]
  },
  {
   "cell_type": "markdown",
   "id": "d05614c6-584b-47e1-975c-b82976ff4588",
   "metadata": {},
   "source": [
    "#### Create a list of month and print the month name when a user gives a input between 1 and 12"
   ]
  },
  {
   "cell_type": "code",
   "execution_count": 18,
   "id": "36ec27aa-8b7d-4730-b3eb-6baa6a8631e3",
   "metadata": {},
   "outputs": [
    {
     "name": "stdin",
     "output_type": "stream",
     "text": [
      "Enter the month:  12\n"
     ]
    },
    {
     "name": "stdout",
     "output_type": "stream",
     "text": [
      "Month 12 is December\n"
     ]
    }
   ],
   "source": [
    "# List of month names (index 0 is empty for easy mapping)\n",
    "month_names = [\"\", \"January\", \"February\", \"March\", \"April\", \"May\", \"June\", \n",
    "               \"July\", \"August\", \"September\", \"October\", \"November\", \"December\"]\n",
    "\n",
    "# Get user input\n",
    "month_number = int(input(\"Enter the month: \"))\n",
    "\n",
    "# print the corresponding month name\n",
    "if 1 <= month_number <= 12:\n",
    "    print(\"Month \" + str(month_number) +\" is \" + month_names[month_number])\n",
    "else:\n",
    "    print(\"Invalid month! Please enter a number between 1 and 12.\")"
   ]
  },
  {
   "cell_type": "markdown",
   "id": "96a77d43-97d9-4f84-9efb-6588883dcaff",
   "metadata": {},
   "source": [
    "#### Movie Ticket Price Calculation"
   ]
  },
  {
   "cell_type": "code",
   "execution_count": 36,
   "id": "cea5eb5d-3746-440c-84d9-55e87eeaecce",
   "metadata": {},
   "outputs": [
    {
     "name": "stdin",
     "output_type": "stream",
     "text": [
      "Enter your age:  25\n"
     ]
    },
    {
     "name": "stdout",
     "output_type": "stream",
     "text": [
      "Your ticket costs £ 6.0\n"
     ]
    }
   ],
   "source": [
    "# Actual ticket charge\n",
    "ticket_price = 6.00\n",
    "\n",
    "# Get user input\n",
    "age = int(input(\"Enter your age: \"))\n",
    "\n",
    "if age < 16:\n",
    "    updated_ticket_price = ticket_price/2\n",
    "elif age >= 60:\n",
    "    updated_ticket_price = ticket_price/3\n",
    "else:\n",
    "    updated_ticket_price = ticket_price\n",
    "\n",
    "#print the update ticket price based on the age\n",
    "print(\"Your ticket costs £\", updated_ticket_price)\n"
   ]
  },
  {
   "cell_type": "markdown",
   "id": "6f2c685e-c7f5-44cf-a878-435180c7d38b",
   "metadata": {},
   "source": [
    "#### BodyMassIndex"
   ]
  },
  {
   "cell_type": "code",
   "execution_count": 43,
   "id": "0ac68f8c-208b-4970-af09-0c2618af93b6",
   "metadata": {},
   "outputs": [
    {
     "name": "stdin",
     "output_type": "stream",
     "text": [
      "Enter your weight in (kg):  75\n",
      "Enter your height in (m):  1.70\n"
     ]
    },
    {
     "name": "stdout",
     "output_type": "stream",
     "text": [
      "Your BMI is: 25.95\n",
      "You are in the \"Overweight\" range.\n"
     ]
    }
   ],
   "source": [
    "# User input for weight and height\n",
    "weight = float(input(\"Enter your weight in (kg): \"))\n",
    "height = float(input(\"Enter your height in (m): \"))\n",
    "\n",
    "# BMI formula: weight (kg) / height^2 (m^2)\n",
    "bmi = weight / (height ** 2)\n",
    "\n",
    "# Determine weight status based on BMI\n",
    "if bmi < 18.5:\n",
    "    status = \"Underweight\"\n",
    "elif 18.5 <= bmi <= 24.9:\n",
    "    status = \"Normal\"\n",
    "elif 25 <= bmi <= 29.9:\n",
    "    status = \"Overweight\"\n",
    "else:\n",
    "    status = \"Obese\"\n",
    "\n",
    "# Display results\n",
    "print(f\"Your BMI is: {bmi:.2f}\")\n",
    "print(f\"You are in the \\\"{status}\\\" range.\")"
   ]
  },
  {
   "cell_type": "markdown",
   "id": "181b744e-5138-4315-bbc1-c9c6b6dab25c",
   "metadata": {},
   "source": [
    "#### Find greates among three number"
   ]
  },
  {
   "cell_type": "code",
   "execution_count": 50,
   "id": "474cbef2-dde4-4cca-80c7-ce2dd3dac10d",
   "metadata": {},
   "outputs": [
    {
     "name": "stdin",
     "output_type": "stream",
     "text": [
      "Enter the first number:  100\n",
      "Enter the second number:  125\n",
      "Enter the third number:  75\n"
     ]
    },
    {
     "name": "stdout",
     "output_type": "stream",
     "text": [
      "The greatest number is: 125.0\n"
     ]
    }
   ],
   "source": [
    "#Get each number\n",
    "num1 = float(input(\"Enter the first number: \"))\n",
    "num2 = float(input(\"Enter the second number: \"))\n",
    "num3 = float(input(\"Enter the third number: \"))\n",
    "\n",
    "#find the largest number between the three\n",
    "greatest = num1\n",
    "if num2 > greatest:\n",
    "    greatest = num2\n",
    "if num3 > greatest:\n",
    "    greatest = num3\n",
    "\n",
    "#print the greatest number\n",
    "print(\"The greatest number is:\",greatest)"
   ]
  },
  {
   "cell_type": "markdown",
   "id": "b398303a-e43f-4311-b42f-422ddda3207d",
   "metadata": {},
   "source": [
    "#### Find the factorial of a number"
   ]
  },
  {
   "cell_type": "code",
   "execution_count": 57,
   "id": "17240131-6432-4084-b27a-f7e2ee1f42d4",
   "metadata": {},
   "outputs": [
    {
     "name": "stdin",
     "output_type": "stream",
     "text": [
      "Enter a number to find its factorial:  3\n"
     ]
    },
    {
     "name": "stdout",
     "output_type": "stream",
     "text": [
      "The factorial of 3 is:  6\n"
     ]
    }
   ],
   "source": [
    "number = int(input(\"Enter a number to find its factorial: \"))\n",
    "\n",
    "#factorial calculation\n",
    "factorial = 1\n",
    "\n",
    "# Loop through all numbers from 1 to the given number (inclusive)\n",
    "for i in range(1, number + 1):\n",
    "    factorial *= i\n",
    "\n",
    "# Print the result\n",
    "print(\"The factorial of\",number,\"is: \",factorial)"
   ]
  },
  {
   "cell_type": "markdown",
   "id": "ede90a87-fd60-4b9e-812a-0365ada4446a",
   "metadata": {},
   "source": [
    "#### Reverse a number"
   ]
  },
  {
   "cell_type": "code",
   "execution_count": 62,
   "id": "b2a2ffdd-145e-4064-9012-89dfdaecdc52",
   "metadata": {},
   "outputs": [
    {
     "name": "stdin",
     "output_type": "stream",
     "text": [
      "Enter a number to reverse:  123456\n"
     ]
    },
    {
     "name": "stdout",
     "output_type": "stream",
     "text": [
      "The reversed number is: 654321\n"
     ]
    }
   ],
   "source": [
    "# Function to reverse the number\n",
    "def reverse_number(number):\n",
    "    reversed_number = 0\n",
    "    \n",
    "    # While loop to reverse the number\n",
    "    while number > 0:\n",
    "        digit = number % 10  # Get the last digit\n",
    "        reversed_number = reversed_number * 10 + digit  # Append digit to the reversed number\n",
    "        number = number // 10  # Remove the last digit from the number\n",
    "    \n",
    "    return reversed_number\n",
    "\n",
    "# User input\n",
    "number = int(input(\"Enter a number to reverse: \"))\n",
    "\n",
    "# Call the reverse_number function\n",
    "reversed_number = reverse_number(number)\n",
    "\n",
    "# Display the reversed number\n",
    "print(\"The reversed number is:\", reversed_number)\n"
   ]
  },
  {
   "cell_type": "markdown",
   "id": "fd1517ab-83df-407d-bb95-877da9337250",
   "metadata": {},
   "source": [
    "#### Multiples of a number using loop"
   ]
  },
  {
   "cell_type": "code",
   "execution_count": 68,
   "id": "a054c6e2-7c1f-4ee7-98eb-f77349975cea",
   "metadata": {},
   "outputs": [
    {
     "name": "stdin",
     "output_type": "stream",
     "text": [
      "Enter a number to find its multiples:  5\n",
      "Enter how many multiples to display:  5\n"
     ]
    },
    {
     "name": "stdout",
     "output_type": "stream",
     "text": [
      "The first 5 multiples of 5 are: [5, 10, 15, 20, 25]\n"
     ]
    }
   ],
   "source": [
    "# Function to find the multiples of a number\n",
    "def find_multiples(number, count):\n",
    "    multiples = []\n",
    "    \n",
    "    # Loop to find the first 'count' multiples of the number\n",
    "    for i in range(1, count + 1):\n",
    "        multiples.append(number * i)\n",
    "    \n",
    "    return multiples\n",
    "\n",
    "# Input from the user\n",
    "number = int(input(\"Enter a number to find its multiples: \"))\n",
    "count = int(input(\"Enter how many multiples to display: \"))\n",
    "\n",
    "# Get the multiples of the number\n",
    "multiples = find_multiples(number, count)\n",
    "\n",
    "# Display the multiples\n",
    "print(f\"The first {count} multiples of {number} are: {multiples}\")\n"
   ]
  },
  {
   "cell_type": "markdown",
   "id": "b295eb98-0387-4d71-b9a8-27a82cb55b61",
   "metadata": {},
   "source": [
    "#### Print Inputed Items"
   ]
  },
  {
   "cell_type": "code",
   "execution_count": 73,
   "id": "31d77447-71df-4de9-a0d7-0571f7a9654e",
   "metadata": {},
   "outputs": [
    {
     "name": "stdin",
     "output_type": "stream",
     "text": [
      ": input\n"
     ]
    },
    {
     "name": "stdout",
     "output_type": "stream",
     "text": [
      "input\n"
     ]
    },
    {
     "name": "stdin",
     "output_type": "stream",
     "text": [
      ": finished\n"
     ]
    },
    {
     "name": "stdout",
     "output_type": "stream",
     "text": [
      "finished\n"
     ]
    },
    {
     "name": "stdin",
     "output_type": "stream",
     "text": [
      ": done\n"
     ]
    },
    {
     "name": "stdout",
     "output_type": "stream",
     "text": [
      "Done\n"
     ]
    }
   ],
   "source": [
    "# Function to take input and print it, stopping when 'done' is entered\n",
    "def print_input_until_done():\n",
    "    while True:\n",
    "        user_input = input(\":\")  # Take user input\n",
    "        if user_input == 'done':  # If the input is 'done', break the loop\n",
    "            print(\"Done\")\n",
    "            break\n",
    "        else:\n",
    "            print(user_input)  # Print the input if it's not 'done'\n",
    "\n",
    "# Run the function\n",
    "print_input_until_done()\n"
   ]
  },
  {
   "cell_type": "markdown",
   "id": "a154a4b7-d9fb-4928-ac9e-a32a6cfcd135",
   "metadata": {},
   "source": [
    "#### FizzBuzz"
   ]
  },
  {
   "cell_type": "code",
   "execution_count": 76,
   "id": "775b3af6-f220-4a29-9eb9-d7a8d1f9e37b",
   "metadata": {},
   "outputs": [
    {
     "name": "stdout",
     "output_type": "stream",
     "text": [
      "1\n",
      "2\n",
      "Fizz\n",
      "4\n",
      "Buzz\n",
      "Fizz\n",
      "7\n",
      "8\n",
      "Fizz\n",
      "Buzz\n"
     ]
    }
   ],
   "source": [
    "# Function to print numbers with FizzBuzz\n",
    "def fizz_buzz():\n",
    "    for i in range(1, 11):\n",
    "        if i % 3 == 0 and i % 5 == 0:\n",
    "            print(\"FizzBuzz\")\n",
    "        elif i % 3 == 0:\n",
    "            print(\"Fizz\")\n",
    "        elif i % 5 == 0:\n",
    "            print(\"Buzz\")\n",
    "        else:\n",
    "            print(i)\n",
    "\n",
    "# Run the function\n",
    "fizz_buzz()\n"
   ]
  },
  {
   "cell_type": "markdown",
   "id": "decdc5fa-8fe2-4fe8-82f7-a351c86563b0",
   "metadata": {},
   "source": [
    "#### Pattern"
   ]
  },
  {
   "cell_type": "code",
   "execution_count": 79,
   "id": "0795c900-a1ba-4f92-ac37-b3dbf1a33c94",
   "metadata": {},
   "outputs": [
    {
     "name": "stdout",
     "output_type": "stream",
     "text": [
      "5 4 3 2 1 \n",
      "4 3 2 1 \n",
      "3 2 1 \n",
      "2 1 \n",
      "1 \n"
     ]
    }
   ],
   "source": [
    "# Function to print the pattern\n",
    "def print_pattern():\n",
    "    for i in range(5, 0, -1):  # Starting from 5 down to 1\n",
    "        for j in range(i, 0, -1):  # Print numbers from i to 1\n",
    "            print(j, end=\" \")\n",
    "        print()  # Newline after each row\n",
    "\n",
    "# Run the function\n",
    "print_pattern()\n"
   ]
  },
  {
   "cell_type": "code",
   "execution_count": null,
   "id": "e1c95c70-1c50-4cba-8f93-56b8ad665fa1",
   "metadata": {},
   "outputs": [],
   "source": []
  }
 ],
 "metadata": {
  "kernelspec": {
   "display_name": "Python [conda env:base] *",
   "language": "python",
   "name": "conda-base-py"
  },
  "language_info": {
   "codemirror_mode": {
    "name": "ipython",
    "version": 3
   },
   "file_extension": ".py",
   "mimetype": "text/x-python",
   "name": "python",
   "nbconvert_exporter": "python",
   "pygments_lexer": "ipython3",
   "version": "3.12.7"
  }
 },
 "nbformat": 4,
 "nbformat_minor": 5
}
