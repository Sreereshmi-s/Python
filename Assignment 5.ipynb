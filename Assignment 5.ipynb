{
 "cells": [
  {
   "cell_type": "markdown",
   "id": "b75641a6-7146-4b2b-91ba-198ee0a90da4",
   "metadata": {},
   "source": [
    "### Assignment 5"
   ]
  },
  {
   "cell_type": "markdown",
   "id": "0bcdfe91-5379-41a3-821c-f2ad604ac2e8",
   "metadata": {},
   "source": [
    "#### 1. Python program to read a file and display its contents"
   ]
  },
  {
   "cell_type": "code",
   "execution_count": 52,
   "id": "937f450e-540f-4ab6-9065-ec9a7cb0406c",
   "metadata": {},
   "outputs": [
    {
     "name": "stdout",
     "output_type": "stream",
     "text": [
      "Hi, I'm Sreereshmi S, a passionate data analyst aspirant with a keen interest in uncovering insights from data. I am eager to develop strong analytical skills, work with large datasets, and apply data visualization techniques to drive meaningful business decisions. \n",
      "My goal is to master tools like Excel, SQL, Python, and Power BI while continuously improving my problem-solving and statistical analysis abilities. I am excited about exploring real-world data challenges and contributing to data-driven decision-making in various industries.\n"
     ]
    }
   ],
   "source": [
    "def read_file():\n",
    "    filename = \"File.txt\"\n",
    "    with open(filename, 'r') as file:\n",
    "        contents = file.read()\n",
    "        print(contents)\n",
    "\n",
    "read_file()"
   ]
  },
  {
   "cell_type": "markdown",
   "id": "dbd22560-17c7-48b5-b3bd-a338b8bacdde",
   "metadata": {},
   "source": [
    "#### 2. Python program to copy the contents of one file to another file"
   ]
  },
  {
   "cell_type": "code",
   "execution_count": 54,
   "id": "fe4d8707-f09a-4850-a483-3d7d35b6591d",
   "metadata": {},
   "outputs": [
    {
     "name": "stdout",
     "output_type": "stream",
     "text": [
      "Contents copied from File.txt to copied_file.txt\n"
     ]
    }
   ],
   "source": [
    "def copy_file(source, destination):\n",
    "    with open(source, 'r') as src:\n",
    "        contents = src.read()\n",
    "    with open(destination, 'w') as dest:\n",
    "        dest.write(contents)\n",
    "    print(f\"Contents copied from {source} to {destination}\")\n",
    "\n",
    "source_file = \"File.txt\"\n",
    "destination_file = \"copied_file.txt\"\n",
    "copy_file(source_file, destination_file)\n"
   ]
  },
  {
   "cell_type": "markdown",
   "id": "311f1c67-f61d-4d95-84fe-fd7b117112e3",
   "metadata": {},
   "source": [
    "#### 3. Python program to read the content of a file and count the total number of words in that file."
   ]
  },
  {
   "cell_type": "code",
   "execution_count": 56,
   "id": "c6e0e0ad-5925-4899-bb41-f43678137f5d",
   "metadata": {},
   "outputs": [
    {
     "name": "stdout",
     "output_type": "stream",
     "text": [
      "Total number of words in File.txt: 78\n"
     ]
    }
   ],
   "source": [
    "def count_words(filename):    \n",
    "    with open(filename, 'r') as file:\n",
    "        contents = file.read()\n",
    "        words = contents.split()\n",
    "        return len(words)\n",
    "\n",
    "filename = \"File.txt\"\n",
    "total_words = count_words(filename)\n",
    "print(f\"Total number of words in {filename}: {total_words}\")\n"
   ]
  },
  {
   "cell_type": "markdown",
   "id": "89c3073d-9207-4209-a7c3-9931bf157021",
   "metadata": {},
   "source": [
    "#### 4.  Python program that prompts the user to input a string and converts it to an integer. Use try-except blocks to handle any exceptions that might occur"
   ]
  },
  {
   "cell_type": "code",
   "execution_count": 58,
   "id": "e62a9681-a08a-4764-a7ba-8a463885aacf",
   "metadata": {},
   "outputs": [
    {
     "name": "stdin",
     "output_type": "stream",
     "text": [
      "Enter a number:  5 8 7 9 4 5\n"
     ]
    },
    {
     "name": "stdout",
     "output_type": "stream",
     "text": [
      "Error: Invalid input. Please enter a valid integer.\n"
     ]
    }
   ],
   "source": [
    "def convert_to_integer():\n",
    "    try:\n",
    "        user_input = input(\"Enter a number: \")\n",
    "        number = int(user_input)\n",
    "        print(f\"You entered the integer: {number}\")\n",
    "    except ValueError:\n",
    "        print(\"Error: Invalid input. Please enter a valid integer.\")\n",
    "\n",
    "convert_to_integer()"
   ]
  },
  {
   "cell_type": "markdown",
   "id": "cbebbb03-e489-438b-9077-3231b8d9acae",
   "metadata": {},
   "source": [
    "#### 5. Python program that prompts the user to input a list of integers and raises an exception if any of the integers in the list are negative."
   ]
  },
  {
   "cell_type": "code",
   "execution_count": 60,
   "id": "52aa7678-0363-4903-9da0-8726079578d3",
   "metadata": {},
   "outputs": [
    {
     "name": "stdin",
     "output_type": "stream",
     "text": [
      "Enter a list of integers separated by spaces:  5 6 2 4 5\n"
     ]
    },
    {
     "name": "stdout",
     "output_type": "stream",
     "text": [
      "You entered a valid list of integers: [5, 6, 2, 4, 5]\n"
     ]
    }
   ],
   "source": [
    "def validate_integer_list():\n",
    "    try:\n",
    "        user_input = input(\"Enter a list of integers separated by spaces: \")\n",
    "        numbers = list(map(int, user_input.split()))\n",
    "        \n",
    "        for num in numbers:\n",
    "            if num < 0:\n",
    "                raise ValueError(\"Negative numbers are not allowed.\")\n",
    "        \n",
    "        print(f\"You entered a valid list of integers: {numbers}\")\n",
    "    except ValueError as e:\n",
    "        print(f\"Error: {e}\")\n",
    "    except Exception as e:\n",
    "        print(f\"An unexpected error occurred: {e}\")\n",
    "\n",
    "validate_integer_list()\n"
   ]
  },
  {
   "cell_type": "markdown",
   "id": "67af68eb-a778-48c2-a90f-0f5b9f056074",
   "metadata": {},
   "source": [
    "#### 6. Python program that prompts the user to input a list of integers and computes the average of those integers. Use try-except blocks to handle any exceptions that might occur.use the finally clause to print a message indicating that the program has finished running."
   ]
  },
  {
   "cell_type": "code",
   "execution_count": 62,
   "id": "1d60a1b2-4723-4367-9ba3-67a09b3ba042",
   "metadata": {},
   "outputs": [
    {
     "name": "stdin",
     "output_type": "stream",
     "text": [
      "Enter a list of integers separated by spaces:  5 8 7 5 \n"
     ]
    },
    {
     "name": "stdout",
     "output_type": "stream",
     "text": [
      "The average of the entered numbers is: 6.25\n",
      "Program execution has finished.\n"
     ]
    }
   ],
   "source": [
    "def compute_average():\n",
    "    try:\n",
    "        user_input = input(\"Enter a list of integers separated by spaces: \")\n",
    "        numbers = list(map(int, user_input.split()))\n",
    "        \n",
    "        if not numbers:\n",
    "            raise ValueError(\"The list is empty. Cannot compute average.\")\n",
    "        \n",
    "        average = sum(numbers) / len(numbers)\n",
    "        print(f\"The average of the entered numbers is: {average}\")\n",
    "    except ValueError as e:\n",
    "        print(f\"Error: {e}\")\n",
    "    except Exception as e:\n",
    "        print(f\"An unexpected error occurred: {e}\")\n",
    "    finally:\n",
    "        print(\"Program execution has finished.\")\n",
    "\n",
    "compute_average()\n"
   ]
  },
  {
   "cell_type": "markdown",
   "id": "ca4a3745-183d-421d-b2dd-f5de101ad830",
   "metadata": {},
   "source": [
    "#### 7. Python program that prompts the user to input a filename and writes a string to that file. Use try-except blocks to handle any exceptions that might occur and print a welcome message if there is no exception occurred."
   ]
  },
  {
   "cell_type": "code",
   "execution_count": 64,
   "id": "65b716e0-d1e5-45da-88fc-9fe06b3014c2",
   "metadata": {},
   "outputs": [
    {
     "name": "stdin",
     "output_type": "stream",
     "text": [
      "Enter the filename:  test_123\n",
      "Enter the content to write to the file:  This is a test content from python jypter\n"
     ]
    },
    {
     "name": "stdout",
     "output_type": "stream",
     "text": [
      "Welcome! The content has been successfully written to the file.\n",
      "Program execution has finished.\n"
     ]
    }
   ],
   "source": [
    "def write_to_file():\n",
    "    try:\n",
    "        filename = input(\"Enter the filename: \")\n",
    "        content = input(\"Enter the content to write to the file: \")\n",
    "        \n",
    "        with open(filename, 'w') as file:\n",
    "            file.write(content)\n",
    "        \n",
    "        print(\"Welcome! The content has been successfully written to the file.\")\n",
    "    except Exception as e:\n",
    "        print(f\"An error occurred: {e}\")\n",
    "    finally:\n",
    "        print(\"Program execution has finished.\")\n",
    "\n",
    "write_to_file()"
   ]
  }
 ],
 "metadata": {
  "kernelspec": {
   "display_name": "Python [conda env:base] *",
   "language": "python",
   "name": "conda-base-py"
  },
  "language_info": {
   "codemirror_mode": {
    "name": "ipython",
    "version": 3
   },
   "file_extension": ".py",
   "mimetype": "text/x-python",
   "name": "python",
   "nbconvert_exporter": "python",
   "pygments_lexer": "ipython3",
   "version": "3.12.7"
  }
 },
 "nbformat": 4,
 "nbformat_minor": 5
}
