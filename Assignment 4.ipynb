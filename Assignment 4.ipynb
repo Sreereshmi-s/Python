{
 "cells": [
  {
   "cell_type": "markdown",
   "id": "bc35ad02-68f0-4c4d-b1ba-a0a5a3ed687b",
   "metadata": {},
   "source": [
    " ## Python - Function"
   ]
  },
  {
   "cell_type": "markdown",
   "id": "1d1bafd7-c311-41c9-8ab3-376553d89e8e",
   "metadata": {},
   "source": [
    "#### 1. len() function in Python\n",
    "##### The len() function in Python is used to determine the number of elements in an object such as a list, string, tuple, dictionary, set"
   ]
  },
  {
   "cell_type": "code",
   "execution_count": 46,
   "id": "ee8e0b79-4ae2-41ad-a7f6-715657729e62",
   "metadata": {},
   "outputs": [
    {
     "name": "stdout",
     "output_type": "stream",
     "text": [
      "Length of the list: 5\n"
     ]
    }
   ],
   "source": [
    "list_item = [1, 2, 3, 4, 5]\n",
    "print(\"Length of the list:\", len(list_item))"
   ]
  },
  {
   "cell_type": "markdown",
   "id": "3490ea02-88b0-4c5c-b58e-82025c44a277",
   "metadata": {},
   "source": [
    "#### 2. Write a Python function greet(name) that takes a person's name as input and prints \"Hello, [name]!\"."
   ]
  },
  {
   "cell_type": "code",
   "execution_count": 48,
   "id": "f886e80d-4a1c-41de-9bd0-bfb984d3e2bb",
   "metadata": {},
   "outputs": [
    {
     "name": "stdin",
     "output_type": "stream",
     "text": [
      "Enter your name:  Sreereshmi S\n"
     ]
    },
    {
     "name": "stdout",
     "output_type": "stream",
     "text": [
      "Hello, Sreereshmi S!\n"
     ]
    }
   ],
   "source": [
    "def greet(name):\n",
    "    print (f\"Hello, {name}!\")\n",
    "\n",
    "name = input(\"Enter your name: \")\n",
    "greet(name)"
   ]
  },
  {
   "cell_type": "markdown",
   "id": "65e67a86-35a2-424d-8600-070a9a9cae97",
   "metadata": {},
   "source": [
    "#### 3. Write a Python function find_maximum(numbers) that takes a list of integers and returns the maximum value without using max()."
   ]
  },
  {
   "cell_type": "code",
   "execution_count": 50,
   "id": "129f1dae-2951-4dea-9c98-9a3df20e9474",
   "metadata": {},
   "outputs": [
    {
     "name": "stdout",
     "output_type": "stream",
     "text": [
      "Maximum value: 10\n"
     ]
    }
   ],
   "source": [
    "def find_maximum(numbers):\n",
    "    # Assuming the first element is the largest\n",
    "    largest_number = numbers[0]\n",
    "    for num in numbers:\n",
    "        if num > largest_number:\n",
    "            largest_number = num\n",
    "    return largest_number\n",
    "\n",
    "numbers = [3, 1, 7, 9, 2, 10, 5, 8]\n",
    "print(\"Maximum value:\", find_maximum(numbers))"
   ]
  },
  {
   "cell_type": "markdown",
   "id": "d01d9287-7c32-4797-b53e-eba6fcf18ef6",
   "metadata": {},
   "source": [
    "#### 4. Difference between local and global variables in a Python function"
   ]
  },
  {
   "cell_type": "code",
   "execution_count": 52,
   "id": "51383701-fbfc-4623-bdf4-14e3de62aac3",
   "metadata": {},
   "outputs": [
    {
     "name": "stdout",
     "output_type": "stream",
     "text": [
      "Inside function, x = 5\n",
      "Outside function, x = 10\n"
     ]
    }
   ],
   "source": [
    "x = 10\n",
    "def global_scope():\n",
    "    x = 5\n",
    "    print(\"Inside function, x =\", x)\n",
    "\n",
    "global_scope()\n",
    "print(\"Outside function, x =\", x)"
   ]
  },
  {
   "cell_type": "markdown",
   "id": "12f3b373-b590-4196-895b-5f5856de418c",
   "metadata": {},
   "source": [
    "#### 5. Create a function calculate_area(length, width=5) that calculates the area of a rectangle."
   ]
  },
  {
   "cell_type": "code",
   "execution_count": 54,
   "id": "d28d3231-69e6-4ba4-8d95-2baab3db3279",
   "metadata": {},
   "outputs": [
    {
     "name": "stdout",
     "output_type": "stream",
     "text": [
      "Area with both length and width: 40\n",
      "Area with only length: 50\n"
     ]
    }
   ],
   "source": [
    "def calculate_area(length, width=5):\n",
    "    return length * width\n",
    "\n",
    "print(\"Area with both length and width:\", calculate_area(10, 4))\n",
    "print(\"Area with only length:\", calculate_area(10))"
   ]
  },
  {
   "cell_type": "code",
   "execution_count": null,
   "id": "b99cf529-dcb6-4365-8f6e-973d44bdf9fc",
   "metadata": {},
   "outputs": [],
   "source": []
  }
 ],
 "metadata": {
  "kernelspec": {
   "display_name": "Python [conda env:base] *",
   "language": "python",
   "name": "conda-base-py"
  },
  "language_info": {
   "codemirror_mode": {
    "name": "ipython",
    "version": 3
   },
   "file_extension": ".py",
   "mimetype": "text/x-python",
   "name": "python",
   "nbconvert_exporter": "python",
   "pygments_lexer": "ipython3",
   "version": "3.12.7"
  }
 },
 "nbformat": 4,
 "nbformat_minor": 5
}
