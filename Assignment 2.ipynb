{
 "cells": [
  {
   "cell_type": "markdown",
   "id": "4d000f3c-5594-4e59-96fd-e3457214eb3d",
   "metadata": {},
   "source": [
    "## Topic :List Exercise"
   ]
  },
  {
   "cell_type": "code",
   "execution_count": 45,
   "id": "f0b25726-356d-4936-9377-8228477f2c2c",
   "metadata": {},
   "outputs": [
    {
     "name": "stdout",
     "output_type": "stream",
     "text": [
      "The number list: [123, 456, 789, 963, 852]\n",
      "Updated list: [123, 456, 789, 963, 852, 753, 951, 258]\n",
      "Elements in the list:\n",
      "123\n",
      "456\n",
      "789\n",
      "963\n",
      "852\n",
      "753\n",
      "951\n",
      "258\n"
     ]
    }
   ],
   "source": [
    "# Q1. Create a list of 5 random numbers and print the list\n",
    "number_list = [123, 456, 789, 963, 852]\n",
    "print('The number list:', number_list)\n",
    "\n",
    "# Q2. Insert 3 new values to the list and print the updated list. \n",
    "new_number_list = [753, 951, 258]\n",
    "combined_list = number_list + new_number_list\n",
    "print(\"Updated list:\", combined_list)\n",
    "\n",
    "#Q3. Try to use a for loop to print each element in the list.\n",
    "print(\"Elements in the list:\")\n",
    "for num in combined_list:\n",
    "    print(num)"
   ]
  },
  {
   "cell_type": "markdown",
   "id": "d30e6114-e05a-4a9f-a88d-80034721fe38",
   "metadata": {},
   "source": [
    "## Topic: Dictionary Exercise"
   ]
  },
  {
   "cell_type": "code",
   "execution_count": 35,
   "id": "dfa049b3-acc4-4e94-9de0-b147d38ade78",
   "metadata": {},
   "outputs": [
    {
     "name": "stdout",
     "output_type": "stream",
     "text": [
      "Original dictionary: {'name': 'John', 'age': 25, 'address': 'New York'}\n",
      "Updated dictionary: {'name': 'John', 'age': 25, 'address': 'New York', 'phone': '1234567890'}\n"
     ]
    }
   ],
   "source": [
    "# Q1: Create a dictionary with keys 'name', 'age', and 'address'\n",
    "person = {\n",
    "    \"name\": \"John\",\n",
    "    \"age\": 25,\n",
    "    \"address\": \"New York\"\n",
    "}\n",
    "print(\"Original dictionary:\", person)\n",
    "\n",
    "# Q2: Add a new key-value pair 'phone' to the dictionary\n",
    "person[\"phone\"] = \"1234567890\"\n",
    "print(\"Updated dictionary:\", person)\n"
   ]
  },
  {
   "cell_type": "markdown",
   "id": "40242614-4539-4cc0-8e24-74cf00f30c4b",
   "metadata": {},
   "source": [
    "## Topic: Set Exercise"
   ]
  },
  {
   "cell_type": "code",
   "execution_count": 47,
   "id": "207faa49-2cc9-4d79-a2e9-d05722baae38",
   "metadata": {},
   "outputs": [
    {
     "name": "stdout",
     "output_type": "stream",
     "text": [
      "Original set: {1, 2, 3, 4, 5}\n",
      "Set after adding 6: {1, 2, 3, 4, 5, 6}\n",
      "Set after removing 3: {1, 2, 4, 5, 6}\n"
     ]
    }
   ],
   "source": [
    "# Q1: Create a set with values 1, 2, 3, 4, and 5\n",
    "numbers_set = {1, 2, 3, 4, 5}\n",
    "print(\"Original set:\", numbers_set)\n",
    "\n",
    "# Q2: Add the value 6 to the set\n",
    "numbers_set.add(6)\n",
    "print(\"Set after adding 6:\", numbers_set)\n",
    "\n",
    "# Q3: Remove the value 3 from the set\n",
    "numbers_set.remove(3)\n",
    "print(\"Set after removing 3:\", numbers_set)"
   ]
  },
  {
   "cell_type": "markdown",
   "id": "4ca56117-2e19-46ac-90e7-81d1298ec17d",
   "metadata": {},
   "source": [
    "## Topic:Tuple Exercise "
   ]
  },
  {
   "cell_type": "code",
   "execution_count": 41,
   "id": "c35ce1df-330b-4666-8112-acec7592ea5b",
   "metadata": {},
   "outputs": [
    {
     "name": "stdout",
     "output_type": "stream",
     "text": [
      "Tuple: (1, 2, 3, 4)\n",
      "Length of tuple: 4\n"
     ]
    }
   ],
   "source": [
    "# Q1: Create a tuple with values 1, 2, 3, and 4\n",
    "numbers_tuple = (1, 2, 3, 4)\n",
    "print(\"Tuple:\", numbers_tuple)\n",
    "\n",
    "# Q2: Print the length of the tuple\n",
    "print(\"Length of tuple:\", len(numbers_tuple))"
   ]
  },
  {
   "cell_type": "code",
   "execution_count": null,
   "id": "62757e81-bcd7-4d84-8331-4d9a8a35525e",
   "metadata": {},
   "outputs": [],
   "source": []
  }
 ],
 "metadata": {
  "kernelspec": {
   "display_name": "Python [conda env:base] *",
   "language": "python",
   "name": "conda-base-py"
  },
  "language_info": {
   "codemirror_mode": {
    "name": "ipython",
    "version": 3
   },
   "file_extension": ".py",
   "mimetype": "text/x-python",
   "name": "python",
   "nbconvert_exporter": "python",
   "pygments_lexer": "ipython3",
   "version": "3.12.7"
  }
 },
 "nbformat": 4,
 "nbformat_minor": 5
}
