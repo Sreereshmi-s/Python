{
 "cells": [
  {
   "cell_type": "markdown",
   "id": "c8d862f9-e23d-4899-b090-c60bf272cbc3",
   "metadata": {},
   "source": [
    "### Regression Assignment"
   ]
  },
  {
   "cell_type": "markdown",
   "id": "b69baf2d-4e1b-4d0b-8156-f72f38e746ef",
   "metadata": {},
   "source": [
    "#### Import necessary libraries"
   ]
  },
  {
   "cell_type": "code",
   "execution_count": 4,
   "id": "3ae802b0-a06f-46ea-8e17-31a2dfde48f8",
   "metadata": {},
   "outputs": [],
   "source": [
    "from sklearn.datasets import fetch_california_housing\n",
    "import pandas as pd\n",
    "import numpy as np\n",
    "from sklearn.preprocessing import StandardScaler\n",
    "import matplotlib.pyplot as plt\n",
    "import seaborn as sns"
   ]
  },
  {
   "cell_type": "markdown",
   "id": "73084e29-1d71-4df8-bab1-a258cc61873e",
   "metadata": {},
   "source": [
    "#### Load the Dataset"
   ]
  },
  {
   "cell_type": "code",
   "execution_count": 8,
   "id": "2af3a27d-29ab-4f71-b889-f55f173e699b",
   "metadata": {},
   "outputs": [],
   "source": [
    "housing = fetch_california_housing()"
   ]
  },
  {
   "cell_type": "code",
   "execution_count": 10,
   "id": "add8d4d0-2af9-40b8-bad2-8d3cc0e2442d",
   "metadata": {},
   "outputs": [],
   "source": [
    "X = pd.DataFrame(housing.data, columns=housing.feature_names)\n",
    "y = pd.Series(housing.target, name='MedHouseVal')"
   ]
  },
  {
   "cell_type": "markdown",
   "id": "cb3ba9ba-d345-4081-84f9-4a0b376a66c9",
   "metadata": {},
   "source": [
    "#### Concatenate for inspection"
   ]
  },
  {
   "cell_type": "code",
   "execution_count": 13,
   "id": "4840cfb1-8410-45d1-8066-9864cb0ac47b",
   "metadata": {},
   "outputs": [
    {
     "data": {
      "text/html": [
       "<div>\n",
       "<style scoped>\n",
       "    .dataframe tbody tr th:only-of-type {\n",
       "        vertical-align: middle;\n",
       "    }\n",
       "\n",
       "    .dataframe tbody tr th {\n",
       "        vertical-align: top;\n",
       "    }\n",
       "\n",
       "    .dataframe thead th {\n",
       "        text-align: right;\n",
       "    }\n",
       "</style>\n",
       "<table border=\"1\" class=\"dataframe\">\n",
       "  <thead>\n",
       "    <tr style=\"text-align: right;\">\n",
       "      <th></th>\n",
       "      <th>MedInc</th>\n",
       "      <th>HouseAge</th>\n",
       "      <th>AveRooms</th>\n",
       "      <th>AveBedrms</th>\n",
       "      <th>Population</th>\n",
       "      <th>AveOccup</th>\n",
       "      <th>Latitude</th>\n",
       "      <th>Longitude</th>\n",
       "      <th>MedHouseVal</th>\n",
       "    </tr>\n",
       "  </thead>\n",
       "  <tbody>\n",
       "    <tr>\n",
       "      <th>0</th>\n",
       "      <td>8.3252</td>\n",
       "      <td>41.0</td>\n",
       "      <td>6.984127</td>\n",
       "      <td>1.023810</td>\n",
       "      <td>322.0</td>\n",
       "      <td>2.555556</td>\n",
       "      <td>37.88</td>\n",
       "      <td>-122.23</td>\n",
       "      <td>4.526</td>\n",
       "    </tr>\n",
       "    <tr>\n",
       "      <th>1</th>\n",
       "      <td>8.3014</td>\n",
       "      <td>21.0</td>\n",
       "      <td>6.238137</td>\n",
       "      <td>0.971880</td>\n",
       "      <td>2401.0</td>\n",
       "      <td>2.109842</td>\n",
       "      <td>37.86</td>\n",
       "      <td>-122.22</td>\n",
       "      <td>3.585</td>\n",
       "    </tr>\n",
       "    <tr>\n",
       "      <th>2</th>\n",
       "      <td>7.2574</td>\n",
       "      <td>52.0</td>\n",
       "      <td>8.288136</td>\n",
       "      <td>1.073446</td>\n",
       "      <td>496.0</td>\n",
       "      <td>2.802260</td>\n",
       "      <td>37.85</td>\n",
       "      <td>-122.24</td>\n",
       "      <td>3.521</td>\n",
       "    </tr>\n",
       "    <tr>\n",
       "      <th>3</th>\n",
       "      <td>5.6431</td>\n",
       "      <td>52.0</td>\n",
       "      <td>5.817352</td>\n",
       "      <td>1.073059</td>\n",
       "      <td>558.0</td>\n",
       "      <td>2.547945</td>\n",
       "      <td>37.85</td>\n",
       "      <td>-122.25</td>\n",
       "      <td>3.413</td>\n",
       "    </tr>\n",
       "    <tr>\n",
       "      <th>4</th>\n",
       "      <td>3.8462</td>\n",
       "      <td>52.0</td>\n",
       "      <td>6.281853</td>\n",
       "      <td>1.081081</td>\n",
       "      <td>565.0</td>\n",
       "      <td>2.181467</td>\n",
       "      <td>37.85</td>\n",
       "      <td>-122.25</td>\n",
       "      <td>3.422</td>\n",
       "    </tr>\n",
       "  </tbody>\n",
       "</table>\n",
       "</div>"
      ],
      "text/plain": [
       "   MedInc  HouseAge  AveRooms  AveBedrms  Population  AveOccup  Latitude  \\\n",
       "0  8.3252      41.0  6.984127   1.023810       322.0  2.555556     37.88   \n",
       "1  8.3014      21.0  6.238137   0.971880      2401.0  2.109842     37.86   \n",
       "2  7.2574      52.0  8.288136   1.073446       496.0  2.802260     37.85   \n",
       "3  5.6431      52.0  5.817352   1.073059       558.0  2.547945     37.85   \n",
       "4  3.8462      52.0  6.281853   1.081081       565.0  2.181467     37.85   \n",
       "\n",
       "   Longitude  MedHouseVal  \n",
       "0    -122.23        4.526  \n",
       "1    -122.22        3.585  \n",
       "2    -122.24        3.521  \n",
       "3    -122.25        3.413  \n",
       "4    -122.25        3.422  "
      ]
     },
     "execution_count": 13,
     "metadata": {},
     "output_type": "execute_result"
    }
   ],
   "source": [
    "df = pd.concat([X, y], axis=1)\n",
    "df.head()"
   ]
  },
  {
   "cell_type": "markdown",
   "id": "f8a2ecc3-0492-41d4-b1ec-cfd8f77a8c6d",
   "metadata": {},
   "source": [
    "#### Preprocessing Dataset"
   ]
  },
  {
   "cell_type": "code",
   "execution_count": 18,
   "id": "c7cc95d6-1d4f-4bfb-9b9e-3b1f9c51225e",
   "metadata": {},
   "outputs": [
    {
     "data": {
      "text/plain": [
       "MedInc         0\n",
       "HouseAge       0\n",
       "AveRooms       0\n",
       "AveBedrms      0\n",
       "Population     0\n",
       "AveOccup       0\n",
       "Latitude       0\n",
       "Longitude      0\n",
       "MedHouseVal    0\n",
       "dtype: int64"
      ]
     },
     "execution_count": 18,
     "metadata": {},
     "output_type": "execute_result"
    }
   ],
   "source": [
    "df.isnull().sum()"
   ]
  },
  {
   "cell_type": "code",
   "execution_count": 20,
   "id": "9a0af85b-fed8-4a6e-9b69-f8e616a221d3",
   "metadata": {},
   "outputs": [],
   "source": [
    "# Feature Scaling\n",
    "scaler = StandardScaler()\n",
    "X_scaled = scaler.fit_transform(X)\n"
   ]
  },
  {
   "cell_type": "markdown",
   "id": "44b9c457-2bac-4296-b267-6cddc9731bad",
   "metadata": {},
   "source": [
    "#### Regression Algorithm Implementation"
   ]
  },
  {
   "cell_type": "code",
   "execution_count": 23,
   "id": "33bd42ef-faf9-40c2-aa0a-7913edc36d64",
   "metadata": {},
   "outputs": [],
   "source": [
    "# Importing libraries\n",
    "from sklearn.model_selection import train_test_split\n",
    "from sklearn.linear_model import LinearRegression\n",
    "from sklearn.tree import DecisionTreeRegressor\n",
    "from sklearn.ensemble import RandomForestRegressor, GradientBoostingRegressor\n",
    "from sklearn.svm import SVR\n",
    "from sklearn.metrics import mean_squared_error, mean_absolute_error, r2_score\n"
   ]
  },
  {
   "cell_type": "markdown",
   "id": "86ffd22e-d054-42eb-8dcc-cf5bcb06a1ff",
   "metadata": {},
   "source": [
    "#### Splitting Data"
   ]
  },
  {
   "cell_type": "code",
   "execution_count": 26,
   "id": "f6a75d60-998b-44d0-9ae9-2ba406b3e116",
   "metadata": {},
   "outputs": [],
   "source": [
    "X_train, X_test, y_train, y_test = train_test_split(X_scaled, y, test_size=0.2, random_state=42)"
   ]
  },
  {
   "cell_type": "markdown",
   "id": "e203d589-f355-40e1-aa80-3cc14f11b126",
   "metadata": {},
   "source": [
    "##### 1. Linear Regression"
   ]
  },
  {
   "cell_type": "code",
   "execution_count": 33,
   "id": "2d13cc8f-82f4-4e79-9e71-ed8ce0ce3ca7",
   "metadata": {},
   "outputs": [],
   "source": [
    "lr = LinearRegression()\n",
    "lr.fit(X_train, y_train)\n",
    "y_pred_lr = lr.predict(X_test)\n"
   ]
  },
  {
   "cell_type": "markdown",
   "id": "3c9ab9d3-0c96-4d84-926b-7018aa62d17d",
   "metadata": {},
   "source": [
    "##### Linear Regression - Explanation:\n",
    "###### Assumes a linear relationship between independent variables and the target.\n",
    "###### Good baseline model, simple and interpretable."
   ]
  },
  {
   "cell_type": "markdown",
   "id": "330d7b29-7472-4a6e-9479-656d06e389ce",
   "metadata": {},
   "source": [
    "##### 2. Decision Tree Regressor"
   ]
  },
  {
   "cell_type": "code",
   "execution_count": 36,
   "id": "190ac3d3-7f6f-4e9d-85dd-0962b8de903c",
   "metadata": {},
   "outputs": [],
   "source": [
    "dt = DecisionTreeRegressor(random_state=42)\n",
    "dt.fit(X_train, y_train)\n",
    "y_pred_dt = dt.predict(X_test)\n"
   ]
  },
  {
   "cell_type": "markdown",
   "id": "ac5de8b6-be75-42bf-92e5-24bc317b1a2d",
   "metadata": {},
   "source": [
    "##### Decision Tree Regressor - Explanation:\n",
    "###### Tree-based, non-linear regression\n",
    "###### Captures complex patterns but prone to overfitting."
   ]
  },
  {
   "cell_type": "markdown",
   "id": "86a0b06b-1b02-4a41-9587-6152fa519acc",
   "metadata": {},
   "source": [
    "##### 3. Random Forest Regressor"
   ]
  },
  {
   "cell_type": "code",
   "execution_count": 39,
   "id": "7ec35e5b-c4eb-41cf-9dd2-db383f4ff1a3",
   "metadata": {},
   "outputs": [],
   "source": [
    "rf = RandomForestRegressor(random_state=42)\n",
    "rf.fit(X_train, y_train)\n",
    "y_pred_rf = rf.predict(X_test)\n"
   ]
  },
  {
   "cell_type": "markdown",
   "id": "6739768d-ae61-406d-80c0-a4c527dab2fa",
   "metadata": {},
   "source": [
    "##### Random Forest Regressor - Explanation:\n",
    "###### Ensemble of Decision Trees.\n",
    "###### Reduces overfitting and improves accuracy."
   ]
  },
  {
   "cell_type": "markdown",
   "id": "2ffc988e-b26b-481f-be4e-a349ed17b9ea",
   "metadata": {},
   "source": [
    "##### 4. Gradient Boosting Regressor"
   ]
  },
  {
   "cell_type": "code",
   "execution_count": 42,
   "id": "8cf80676-daaf-4c54-b55d-21b84ba3dae1",
   "metadata": {},
   "outputs": [],
   "source": [
    "gb = GradientBoostingRegressor(random_state=42)\n",
    "gb.fit(X_train, y_train)\n",
    "y_pred_gb = gb.predict(X_test)\n"
   ]
  },
  {
   "cell_type": "markdown",
   "id": "9c50c1cd-0ade-4167-94a6-8c7f902e0d2a",
   "metadata": {},
   "source": [
    "##### Gradient Boosting Regressor - Explanation:\n",
    "###### Builds trees sequentially to minimize loss.\n",
    "###### Powerful for structured/tabular data."
   ]
  },
  {
   "cell_type": "markdown",
   "id": "cfa83a33-4742-43ac-88fe-fe0217c83b63",
   "metadata": {},
   "source": [
    "##### 5. Support Vector Regressor (SVR)"
   ]
  },
  {
   "cell_type": "code",
   "execution_count": 45,
   "id": "06a775ef-0f24-4da6-8375-69705cc3eb4c",
   "metadata": {},
   "outputs": [],
   "source": [
    "svr = SVR()\n",
    "svr.fit(X_train, y_train)\n",
    "y_pred_svr = svr.predict(X_test)\n"
   ]
  },
  {
   "cell_type": "markdown",
   "id": "90f2a96a-e8e6-4677-9656-5210dfc1ae29",
   "metadata": {},
   "source": [
    "##### Support Vector Regressor - Explanation:\n",
    "###### Maximizes the margin of tolerance.\n",
    "###### Performs well with scaled data, suitable for small to medium datasets."
   ]
  },
  {
   "cell_type": "markdown",
   "id": "e2951e61-5401-4c3f-9762-86e28cc58c56",
   "metadata": {},
   "source": [
    "#### Model Evaluation and Comparison"
   ]
  },
  {
   "cell_type": "code",
   "execution_count": 59,
   "id": "f8975378-4d0b-4c6d-b975-8da4e9a95227",
   "metadata": {},
   "outputs": [
    {
     "data": {
      "text/html": [
       "<div>\n",
       "<style scoped>\n",
       "    .dataframe tbody tr th:only-of-type {\n",
       "        vertical-align: middle;\n",
       "    }\n",
       "\n",
       "    .dataframe tbody tr th {\n",
       "        vertical-align: top;\n",
       "    }\n",
       "\n",
       "    .dataframe thead th {\n",
       "        text-align: right;\n",
       "    }\n",
       "</style>\n",
       "<table border=\"1\" class=\"dataframe\">\n",
       "  <thead>\n",
       "    <tr style=\"text-align: right;\">\n",
       "      <th></th>\n",
       "      <th>MSE</th>\n",
       "      <th>MAE</th>\n",
       "      <th>R²</th>\n",
       "    </tr>\n",
       "  </thead>\n",
       "  <tbody>\n",
       "    <tr>\n",
       "      <th>Random Forest</th>\n",
       "      <td>0.255498</td>\n",
       "      <td>0.327613</td>\n",
       "      <td>0.805024</td>\n",
       "    </tr>\n",
       "    <tr>\n",
       "      <th>Gradient Boosting</th>\n",
       "      <td>0.293999</td>\n",
       "      <td>0.371650</td>\n",
       "      <td>0.775643</td>\n",
       "    </tr>\n",
       "    <tr>\n",
       "      <th>SVR</th>\n",
       "      <td>0.355198</td>\n",
       "      <td>0.397763</td>\n",
       "      <td>0.728941</td>\n",
       "    </tr>\n",
       "    <tr>\n",
       "      <th>Decision Tree</th>\n",
       "      <td>0.494272</td>\n",
       "      <td>0.453784</td>\n",
       "      <td>0.622811</td>\n",
       "    </tr>\n",
       "    <tr>\n",
       "      <th>Linear Regression</th>\n",
       "      <td>0.555892</td>\n",
       "      <td>0.533200</td>\n",
       "      <td>0.575788</td>\n",
       "    </tr>\n",
       "  </tbody>\n",
       "</table>\n",
       "</div>"
      ],
      "text/plain": [
       "                        MSE       MAE        R²\n",
       "Random Forest      0.255498  0.327613  0.805024\n",
       "Gradient Boosting  0.293999  0.371650  0.775643\n",
       "SVR                0.355198  0.397763  0.728941\n",
       "Decision Tree      0.494272  0.453784  0.622811\n",
       "Linear Regression  0.555892  0.533200  0.575788"
      ]
     },
     "execution_count": 59,
     "metadata": {},
     "output_type": "execute_result"
    }
   ],
   "source": [
    "def evaluate_model(y_true, y_pred, name):\n",
    "    mse = mean_squared_error(y_true, y_pred)\n",
    "    mae = mean_absolute_error(y_true, y_pred)\n",
    "    r2 = r2_score(y_true, y_pred)\n",
    "    return pd.Series([mse, mae, r2], name=name)\n",
    "\n",
    "results = pd.concat([\n",
    "    evaluate_model(y_test, y_pred_lr, \"Linear Regression\"),\n",
    "    evaluate_model(y_test, y_pred_dt, \"Decision Tree\"),\n",
    "    evaluate_model(y_test, y_pred_rf, \"Random Forest\"),\n",
    "    evaluate_model(y_test, y_pred_gb, \"Gradient Boosting\"),\n",
    "    evaluate_model(y_test, y_pred_svr, \"SVR\")\n",
    "], axis=1)\n",
    "\n",
    "results.index = ['MSE', 'MAE', 'R²']\n",
    "results.T.sort_values('R²', ascending=False)\n"
   ]
  },
  {
   "cell_type": "code",
   "execution_count": 66,
   "id": "c07e9a9c-c254-42db-b11a-62283032d23e",
   "metadata": {},
   "outputs": [
    {
     "data": {
      "image/png": "[encoded data removed]",
      "text/plain": [
       "<Figure size 1800x500 with 3 Axes>"
      ]
     },
     "metadata": {},
     "output_type": "display_data"
    }
   ],
   "source": [
    "# Transpose results for plotting\n",
    "results_plot = results.T.reset_index().rename(columns={'index': 'Model'})\n",
    "\n",
    "# Set the plot style\n",
    "plt.figure(figsize=(18, 5))\n",
    "sns.set(style=\"whitegrid\")\n",
    "\n",
    "# MSE Plot\n",
    "plt.subplot(1, 3, 1)\n",
    "sns.barplot(data=results_plot, x='Model', y='MSE', hue='Model', palette='Blues_d', legend=False)\n",
    "plt.xticks(rotation=45)\n",
    "plt.title('Mean Squared Error (MSE)')\n",
    "\n",
    "# MAE Plot\n",
    "plt.subplot(1, 3, 2)\n",
    "sns.barplot(data=results_plot, x='Model', y='MAE', hue='Model', palette='Greens_d', legend=False)\n",
    "plt.xticks(rotation=45)\n",
    "plt.title('Mean Absolute Error (MAE)')\n",
    "\n",
    "# R² Score Plot\n",
    "plt.subplot(1, 3, 3)\n",
    "sns.barplot(data=results_plot, x='Model', y='R²', hue='Model', palette='Oranges_d', legend=False)\n",
    "plt.xticks(rotation=45)\n",
    "plt.title('R-squared Score (R²)')\n",
    "\n",
    "plt.tight_layout()\n",
    "plt.show()\n"
   ]
  },
  {
   "cell_type": "markdown",
   "id": "2d76c318-3f0c-4282-bf7e-9ef9e84ce67e",
   "metadata": {},
   "source": [
    "#### Summary\n",
    "\n",
    "#### Best: Most likely Random Forest or Gradient Boosting (higher R², lower errors)\n",
    "#### Worst: Typically SVR (slow and less accurate on large data unless tuned heavily)"
   ]
  },
  {
   "cell_type": "code",
   "execution_count": null,
   "id": "43d32e56-0cec-4631-9b5e-11f743698ab1",
   "metadata": {},
   "outputs": [],
   "source": []
  }
 ],
 "metadata": {
  "kernelspec": {
   "display_name": "Python [conda env:base] *",
   "language": "python",
   "name": "conda-base-py"
  },
  "language_info": {
   "codemirror_mode": {
    "name": "ipython",
    "version": 3
   },
   "file_extension": ".py",
   "mimetype": "text/x-python",
   "name": "python",
   "nbconvert_exporter": "python",
   "pygments_lexer": "ipython3",
   "version": "3.12.7"
  }
 },
 "nbformat": 4,
 "nbformat_minor": 5
}
