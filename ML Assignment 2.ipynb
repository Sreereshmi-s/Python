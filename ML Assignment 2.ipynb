{
 "cells": [
  {
   "cell_type": "code",
   "execution_count": null,
   "id": "cab93cf9-c74a-49dc-bc83-6275733c3fff",
   "metadata": {},
   "outputs": [],
   "source": []
  },
  {
   "cell_type": "markdown",
   "id": "b8e0ed4a-f31c-4349-867a-b6c998ae3855",
   "metadata": {},
   "source": [
    "#### Importing Necessary Libraries"
   ]
  },
  {
   "cell_type": "code",
   "execution_count": 3,
   "id": "a01117ac-413e-4da7-a407-ef88c2be4095",
   "metadata": {},
   "outputs": [],
   "source": [
    "import pandas as pd\n",
    "import numpy as np\n",
    "import matplotlib.pyplot as plt\n",
    "import seaborn as sns"
   ]
  },
  {
   "cell_type": "markdown",
   "id": "7e7ece08-49ce-45a4-ab59-71ddbc5633ed",
   "metadata": {},
   "source": [
    "#### Loading the Dataset"
   ]
  },
  {
   "cell_type": "code",
   "execution_count": 6,
   "id": "72507a8f-5f1e-4c7b-811a-9cd4e48ef838",
   "metadata": {},
   "outputs": [],
   "source": [
    "# Load dataset\n",
    "df = pd.read_csv(\"employee.csv\")"
   ]
  },
  {
   "cell_type": "markdown",
   "id": "77dfe59b-a13b-410d-b9cf-2b477b2b97a6",
   "metadata": {},
   "source": [
    "### 1 . Data Exploration"
   ]
  },
  {
   "cell_type": "code",
   "execution_count": 10,
   "id": "209b2cba-b7f8-4049-a847-4a46e9d4f641",
   "metadata": {},
   "outputs": [
    {
     "data": {
      "text/html": [
       "<div>\n",
       "<style scoped>\n",
       "    .dataframe tbody tr th:only-of-type {\n",
       "        vertical-align: middle;\n",
       "    }\n",
       "\n",
       "    .dataframe tbody tr th {\n",
       "        vertical-align: top;\n",
       "    }\n",
       "\n",
       "    .dataframe thead th {\n",
       "        text-align: right;\n",
       "    }\n",
       "</style>\n",
       "<table border=\"1\" class=\"dataframe\">\n",
       "  <thead>\n",
       "    <tr style=\"text-align: right;\">\n",
       "      <th></th>\n",
       "      <th>Company</th>\n",
       "      <th>Age</th>\n",
       "      <th>Salary</th>\n",
       "      <th>Place</th>\n",
       "      <th>Country</th>\n",
       "      <th>Gender</th>\n",
       "    </tr>\n",
       "  </thead>\n",
       "  <tbody>\n",
       "    <tr>\n",
       "      <th>0</th>\n",
       "      <td>TCS</td>\n",
       "      <td>20.0</td>\n",
       "      <td>NaN</td>\n",
       "      <td>Chennai</td>\n",
       "      <td>India</td>\n",
       "      <td>0</td>\n",
       "    </tr>\n",
       "    <tr>\n",
       "      <th>1</th>\n",
       "      <td>Infosys</td>\n",
       "      <td>30.0</td>\n",
       "      <td>NaN</td>\n",
       "      <td>Mumbai</td>\n",
       "      <td>India</td>\n",
       "      <td>0</td>\n",
       "    </tr>\n",
       "    <tr>\n",
       "      <th>2</th>\n",
       "      <td>TCS</td>\n",
       "      <td>35.0</td>\n",
       "      <td>2300.0</td>\n",
       "      <td>Calcutta</td>\n",
       "      <td>India</td>\n",
       "      <td>0</td>\n",
       "    </tr>\n",
       "    <tr>\n",
       "      <th>3</th>\n",
       "      <td>Infosys</td>\n",
       "      <td>40.0</td>\n",
       "      <td>3000.0</td>\n",
       "      <td>Delhi</td>\n",
       "      <td>India</td>\n",
       "      <td>0</td>\n",
       "    </tr>\n",
       "    <tr>\n",
       "      <th>4</th>\n",
       "      <td>TCS</td>\n",
       "      <td>23.0</td>\n",
       "      <td>4000.0</td>\n",
       "      <td>Mumbai</td>\n",
       "      <td>India</td>\n",
       "      <td>0</td>\n",
       "    </tr>\n",
       "  </tbody>\n",
       "</table>\n",
       "</div>"
      ],
      "text/plain": [
       "   Company   Age  Salary     Place Country  Gender\n",
       "0      TCS  20.0     NaN   Chennai   India       0\n",
       "1  Infosys  30.0     NaN    Mumbai   India       0\n",
       "2      TCS  35.0  2300.0  Calcutta   India       0\n",
       "3  Infosys  40.0  3000.0     Delhi   India       0\n",
       "4      TCS  23.0  4000.0    Mumbai   India       0"
      ]
     },
     "execution_count": 10,
     "metadata": {},
     "output_type": "execute_result"
    }
   ],
   "source": [
    "# Display first few rows\n",
    "df.head()"
   ]
  },
  {
   "cell_type": "code",
   "execution_count": 12,
   "id": "40647423-3791-44de-a1c3-8c61921a956a",
   "metadata": {},
   "outputs": [
    {
     "name": "stdout",
     "output_type": "stream",
     "text": [
      "<class 'pandas.core.frame.DataFrame'>\n",
      "RangeIndex: 148 entries, 0 to 147\n",
      "Data columns (total 6 columns):\n",
      " #   Column   Non-Null Count  Dtype  \n",
      "---  ------   --------------  -----  \n",
      " 0   Company  140 non-null    object \n",
      " 1   Age      130 non-null    float64\n",
      " 2   Salary   124 non-null    float64\n",
      " 3   Place    134 non-null    object \n",
      " 4   Country  148 non-null    object \n",
      " 5   Gender   148 non-null    int64  \n",
      "dtypes: float64(2), int64(1), object(3)\n",
      "memory usage: 7.1+ KB\n"
     ]
    }
   ],
   "source": [
    "#Display data info\n",
    "df.info()"
   ]
  },
  {
   "cell_type": "markdown",
   "id": "cd956114-b019-4338-8377-5e656c6e5d23",
   "metadata": {},
   "source": [
    "#### Unique Values in Each Feature and Their Count:"
   ]
  },
  {
   "cell_type": "code",
   "execution_count": 25,
   "id": "81a2943b-ed49-4336-a158-223dac7c2887",
   "metadata": {},
   "outputs": [
    {
     "name": "stdout",
     "output_type": "stream",
     "text": [
      "{'Company': ['TCS', 'Infosys', 'CTS', nan, 'Tata Consultancy Services', 'Congnizant', 'Infosys Pvt Lmt'], 'Age': [20.0, 30.0, 35.0, 40.0, 23.0, nan, 34.0, 45.0, 18.0, 22.0, 32.0, 37.0, 50.0, 21.0, 46.0, 36.0, 26.0, 41.0, 24.0, 25.0, 43.0, 19.0, 38.0, 51.0, 31.0, 44.0, 33.0, 17.0, 0.0, 54.0], 'Salary': [nan, 2300.0, 3000.0, 4000.0, 5000.0, 6000.0, 7000.0, 8000.0, 9000.0, 1089.0, 1234.0, 3030.0, 3045.0, 3184.0, 4824.0, 5835.0, 7084.0, 8943.0, 8345.0, 9284.0, 9876.0, 2034.0, 7654.0, 2934.0, 4034.0, 5034.0, 8202.0, 9024.0, 4345.0, 6544.0, 6543.0, 3234.0, 4324.0, 5435.0, 5555.0, 8787.0, 3454.0, 5654.0, 5009.0, 5098.0, 3033.0], 'Place': ['Chennai', 'Mumbai', 'Calcutta', 'Delhi', 'Podicherry', 'Cochin', nan, 'Noida', 'Hyderabad', 'Bhopal', 'Nagpur', 'Pune'], 'Country': ['India'], 'Gender': [0, 1]}\n"
     ]
    }
   ],
   "source": [
    "unique_values = {col: df[col].unique().tolist() for col in df.columns}\n",
    "print(unique_values)"
   ]
  },
  {
   "cell_type": "code",
   "execution_count": 29,
   "id": "0e44f3c5-6ae0-4159-95ef-59cad0384d12",
   "metadata": {},
   "outputs": [
    {
     "name": "stdout",
     "output_type": "stream",
     "text": [
      "{'Company': 7, 'Age': 30, 'Salary': 41, 'Place': 12, 'Country': 1, 'Gender': 2}\n"
     ]
    }
   ],
   "source": [
    "length_of_uniques = {col: len(df[col].unique()) for col in df.columns}\n",
    "print(length_of_uniques)"
   ]
  },
  {
   "cell_type": "code",
   "execution_count": 48,
   "id": "9bf2b71f-7acc-4eb5-b69f-d2f7f7e54e3f",
   "metadata": {},
   "outputs": [],
   "source": [
    "statistics = df.describe(include='all')\n",
    "df.rename(columns={\n",
    "    'Company': 'company',\n",
    "    'Age': 'age',\n",
    "    'Salary': 'salary',\n",
    "    'Place': 'place',\n",
    "    'Country': 'country',\n",
    "    'Gender': 'gender'\n",
    "}, inplace=True)"
   ]
  },
  {
   "cell_type": "code",
   "execution_count": 50,
   "id": "23e2e345-262f-40f8-8d97-3cfdfa47c879",
   "metadata": {},
   "outputs": [
    {
     "data": {
      "text/plain": [
       "Index(['company', 'age', 'salary', 'place', 'country', 'gender'], dtype='object')"
      ]
     },
     "execution_count": 50,
     "metadata": {},
     "output_type": "execute_result"
    }
   ],
   "source": [
    "df.columns"
   ]
  },
  {
   "cell_type": "markdown",
   "id": "90586d3b-39af-43d7-94f0-bf69cdbff0b8",
   "metadata": {},
   "source": [
    "#### 2. Data Cleaning"
   ]
  },
  {
   "cell_type": "code",
   "execution_count": 52,
   "id": "64954010-ec91-4b8a-b631-9bf3be27768a",
   "metadata": {},
   "outputs": [
    {
     "name": "stdout",
     "output_type": "stream",
     "text": [
      "company     8\n",
      "age        18\n",
      "salary     24\n",
      "place      14\n",
      "country     0\n",
      "gender      0\n",
      "dtype: int64\n"
     ]
    }
   ],
   "source": [
    "missing_values = df.isnull().sum()\n",
    "print(missing_values)"
   ]
  },
  {
   "cell_type": "code",
   "execution_count": 56,
   "id": "cd1cd291-852c-499b-ba33-eb7bec0be3a2",
   "metadata": {},
   "outputs": [
    {
     "name": "stdout",
     "output_type": "stream",
     "text": [
      "     company  age  salary       place country  gender\n",
      "88   Infosys  0.0  3030.0    Calcutta   India       0\n",
      "92       TCS  0.0  3045.0       Delhi   India       0\n",
      "101      CTS  0.0  2034.0  Podicherry   India       0\n",
      "107      TCS  0.0  9024.0     Chennai   India       1\n",
      "111  Infosys  0.0  3234.0      Mumbai   India       0\n",
      "121      CTS  0.0  1234.0    Calcutta   India       0\n"
     ]
    }
   ],
   "source": [
    "inappropriate_values = df[df['age'] == 0]\n",
    "print(inappropriate_values)"
   ]
  },
  {
   "cell_type": "markdown",
   "id": "0e49955a-3453-45a7-8a57-0be50de5793f",
   "metadata": {},
   "source": [
    "#### Handling Missing values"
   ]
  },
  {
   "cell_type": "code",
   "execution_count": 75,
   "id": "aa4dd4fa-0c42-4ff8-987d-8cf48f2f018b",
   "metadata": {},
   "outputs": [],
   "source": [
    "df['age'] = df['age'].replace(0, np.nan)\n",
    "df['age'] = df['age'].fillna(df['age'].mean())"
   ]
  },
  {
   "cell_type": "code",
   "execution_count": 77,
   "id": "d1c6d0eb-ac52-4b4c-af3f-96beaf6fa53b",
   "metadata": {},
   "outputs": [],
   "source": [
    "df['salary'] = df['salary'].fillna(df['salary'].mean())"
   ]
  },
  {
   "cell_type": "code",
   "execution_count": 79,
   "id": "cc619136-1ff8-454d-81de-c1b4ed9be8a8",
   "metadata": {},
   "outputs": [],
   "source": [
    "df['place'] = df['place'].fillna(df['place'].mode()[0])"
   ]
  },
  {
   "cell_type": "markdown",
   "id": "f8ab1295-fd34-4031-b69c-b6a4386b6360",
   "metadata": {},
   "source": [
    "#### Remove Duplicate Rows"
   ]
  },
  {
   "cell_type": "code",
   "execution_count": 82,
   "id": "3e795505-afbd-4a86-a89a-32b1d1c71f0a",
   "metadata": {},
   "outputs": [],
   "source": [
    "df.drop_duplicates(inplace=True)"
   ]
  },
  {
   "cell_type": "markdown",
   "id": "0607b4e2-f998-4914-92c7-65fbc01ce030",
   "metadata": {},
   "source": [
    "#### Detect Outliers"
   ]
  },
  {
   "cell_type": "code",
   "execution_count": 87,
   "id": "4e26be5f-4560-42b8-b73b-6790ecaba647",
   "metadata": {},
   "outputs": [
    {
     "data": {
      "text/html": [
       "<div>\n",
       "<style scoped>\n",
       "    .dataframe tbody tr th:only-of-type {\n",
       "        vertical-align: middle;\n",
       "    }\n",
       "\n",
       "    .dataframe tbody tr th {\n",
       "        vertical-align: top;\n",
       "    }\n",
       "\n",
       "    .dataframe thead th {\n",
       "        text-align: right;\n",
       "    }\n",
       "</style>\n",
       "<table border=\"1\" class=\"dataframe\">\n",
       "  <thead>\n",
       "    <tr style=\"text-align: right;\">\n",
       "      <th></th>\n",
       "      <th>company</th>\n",
       "      <th>age</th>\n",
       "      <th>salary</th>\n",
       "      <th>place</th>\n",
       "      <th>country</th>\n",
       "      <th>gender</th>\n",
       "    </tr>\n",
       "  </thead>\n",
       "  <tbody>\n",
       "    <tr>\n",
       "      <th>6</th>\n",
       "      <td>TCS</td>\n",
       "      <td>31.959677</td>\n",
       "      <td>6000.0</td>\n",
       "      <td>Chennai</td>\n",
       "      <td>India</td>\n",
       "      <td>1</td>\n",
       "    </tr>\n",
       "    <tr>\n",
       "      <th>7</th>\n",
       "      <td>Infosys</td>\n",
       "      <td>23.000000</td>\n",
       "      <td>7000.0</td>\n",
       "      <td>Mumbai</td>\n",
       "      <td>India</td>\n",
       "      <td>1</td>\n",
       "    </tr>\n",
       "    <tr>\n",
       "      <th>8</th>\n",
       "      <td>TCS</td>\n",
       "      <td>34.000000</td>\n",
       "      <td>8000.0</td>\n",
       "      <td>Calcutta</td>\n",
       "      <td>India</td>\n",
       "      <td>1</td>\n",
       "    </tr>\n",
       "    <tr>\n",
       "      <th>24</th>\n",
       "      <td>TCS</td>\n",
       "      <td>31.959677</td>\n",
       "      <td>7084.0</td>\n",
       "      <td>Chennai</td>\n",
       "      <td>India</td>\n",
       "      <td>1</td>\n",
       "    </tr>\n",
       "    <tr>\n",
       "      <th>25</th>\n",
       "      <td>Infosys</td>\n",
       "      <td>23.000000</td>\n",
       "      <td>8943.0</td>\n",
       "      <td>Mumbai</td>\n",
       "      <td>India</td>\n",
       "      <td>1</td>\n",
       "    </tr>\n",
       "    <tr>\n",
       "      <th>26</th>\n",
       "      <td>TCS</td>\n",
       "      <td>34.000000</td>\n",
       "      <td>8345.0</td>\n",
       "      <td>Calcutta</td>\n",
       "      <td>India</td>\n",
       "      <td>1</td>\n",
       "    </tr>\n",
       "    <tr>\n",
       "      <th>27</th>\n",
       "      <td>CTS</td>\n",
       "      <td>45.000000</td>\n",
       "      <td>9284.0</td>\n",
       "      <td>Delhi</td>\n",
       "      <td>India</td>\n",
       "      <td>1</td>\n",
       "    </tr>\n",
       "    <tr>\n",
       "      <th>28</th>\n",
       "      <td>CTS</td>\n",
       "      <td>23.000000</td>\n",
       "      <td>9876.0</td>\n",
       "      <td>Mumbai</td>\n",
       "      <td>India</td>\n",
       "      <td>1</td>\n",
       "    </tr>\n",
       "    <tr>\n",
       "      <th>35</th>\n",
       "      <td>TCS</td>\n",
       "      <td>35.000000</td>\n",
       "      <td>9024.0</td>\n",
       "      <td>Mumbai</td>\n",
       "      <td>India</td>\n",
       "      <td>1</td>\n",
       "    </tr>\n",
       "    <tr>\n",
       "      <th>44</th>\n",
       "      <td>TCS</td>\n",
       "      <td>35.000000</td>\n",
       "      <td>8000.0</td>\n",
       "      <td>Noida</td>\n",
       "      <td>India</td>\n",
       "      <td>1</td>\n",
       "    </tr>\n",
       "    <tr>\n",
       "      <th>45</th>\n",
       "      <td>CTS</td>\n",
       "      <td>46.000000</td>\n",
       "      <td>9000.0</td>\n",
       "      <td>Hyderabad</td>\n",
       "      <td>India</td>\n",
       "      <td>1</td>\n",
       "    </tr>\n",
       "    <tr>\n",
       "      <th>61</th>\n",
       "      <td>NaN</td>\n",
       "      <td>25.000000</td>\n",
       "      <td>8943.0</td>\n",
       "      <td>Mumbai</td>\n",
       "      <td>India</td>\n",
       "      <td>1</td>\n",
       "    </tr>\n",
       "    <tr>\n",
       "      <th>62</th>\n",
       "      <td>Tata Consultancy Services</td>\n",
       "      <td>36.000000</td>\n",
       "      <td>8345.0</td>\n",
       "      <td>Mumbai</td>\n",
       "      <td>India</td>\n",
       "      <td>1</td>\n",
       "    </tr>\n",
       "    <tr>\n",
       "      <th>63</th>\n",
       "      <td>CTS</td>\n",
       "      <td>41.000000</td>\n",
       "      <td>9284.0</td>\n",
       "      <td>Mumbai</td>\n",
       "      <td>India</td>\n",
       "      <td>1</td>\n",
       "    </tr>\n",
       "    <tr>\n",
       "      <th>71</th>\n",
       "      <td>TCS</td>\n",
       "      <td>34.000000</td>\n",
       "      <td>9024.0</td>\n",
       "      <td>Mumbai</td>\n",
       "      <td>India</td>\n",
       "      <td>1</td>\n",
       "    </tr>\n",
       "    <tr>\n",
       "      <th>81</th>\n",
       "      <td>CTS</td>\n",
       "      <td>43.000000</td>\n",
       "      <td>9000.0</td>\n",
       "      <td>Pune</td>\n",
       "      <td>India</td>\n",
       "      <td>1</td>\n",
       "    </tr>\n",
       "    <tr>\n",
       "      <th>96</th>\n",
       "      <td>TCS</td>\n",
       "      <td>31.959677</td>\n",
       "      <td>7084.0</td>\n",
       "      <td>Mumbai</td>\n",
       "      <td>India</td>\n",
       "      <td>1</td>\n",
       "    </tr>\n",
       "    <tr>\n",
       "      <th>97</th>\n",
       "      <td>Infosys</td>\n",
       "      <td>22.000000</td>\n",
       "      <td>8943.0</td>\n",
       "      <td>Calcutta</td>\n",
       "      <td>India</td>\n",
       "      <td>1</td>\n",
       "    </tr>\n",
       "    <tr>\n",
       "      <th>98</th>\n",
       "      <td>TCS</td>\n",
       "      <td>33.000000</td>\n",
       "      <td>8345.0</td>\n",
       "      <td>Delhi</td>\n",
       "      <td>India</td>\n",
       "      <td>1</td>\n",
       "    </tr>\n",
       "    <tr>\n",
       "      <th>99</th>\n",
       "      <td>CTS</td>\n",
       "      <td>44.000000</td>\n",
       "      <td>9284.0</td>\n",
       "      <td>Podicherry</td>\n",
       "      <td>India</td>\n",
       "      <td>1</td>\n",
       "    </tr>\n",
       "    <tr>\n",
       "      <th>106</th>\n",
       "      <td>Infosys</td>\n",
       "      <td>22.000000</td>\n",
       "      <td>8202.0</td>\n",
       "      <td>Cochin</td>\n",
       "      <td>India</td>\n",
       "      <td>1</td>\n",
       "    </tr>\n",
       "    <tr>\n",
       "      <th>107</th>\n",
       "      <td>TCS</td>\n",
       "      <td>31.959677</td>\n",
       "      <td>9024.0</td>\n",
       "      <td>Chennai</td>\n",
       "      <td>India</td>\n",
       "      <td>1</td>\n",
       "    </tr>\n",
       "    <tr>\n",
       "      <th>116</th>\n",
       "      <td>TCS</td>\n",
       "      <td>33.000000</td>\n",
       "      <td>8787.0</td>\n",
       "      <td>Mumbai</td>\n",
       "      <td>India</td>\n",
       "      <td>1</td>\n",
       "    </tr>\n",
       "    <tr>\n",
       "      <th>117</th>\n",
       "      <td>CTS</td>\n",
       "      <td>44.000000</td>\n",
       "      <td>9876.0</td>\n",
       "      <td>Mumbai</td>\n",
       "      <td>India</td>\n",
       "      <td>1</td>\n",
       "    </tr>\n",
       "    <tr>\n",
       "      <th>124</th>\n",
       "      <td>Infosys</td>\n",
       "      <td>22.000000</td>\n",
       "      <td>8787.0</td>\n",
       "      <td>Calcutta</td>\n",
       "      <td>India</td>\n",
       "      <td>1</td>\n",
       "    </tr>\n",
       "    <tr>\n",
       "      <th>125</th>\n",
       "      <td>TCS</td>\n",
       "      <td>33.000000</td>\n",
       "      <td>5654.0</td>\n",
       "      <td>Mumbai</td>\n",
       "      <td>India</td>\n",
       "      <td>1</td>\n",
       "    </tr>\n",
       "    <tr>\n",
       "      <th>126</th>\n",
       "      <td>TCS</td>\n",
       "      <td>20.000000</td>\n",
       "      <td>5009.0</td>\n",
       "      <td>Mumbai</td>\n",
       "      <td>India</td>\n",
       "      <td>1</td>\n",
       "    </tr>\n",
       "    <tr>\n",
       "      <th>132</th>\n",
       "      <td>TCS</td>\n",
       "      <td>31.959677</td>\n",
       "      <td>7084.0</td>\n",
       "      <td>Cochin</td>\n",
       "      <td>India</td>\n",
       "      <td>1</td>\n",
       "    </tr>\n",
       "    <tr>\n",
       "      <th>135</th>\n",
       "      <td>CTS</td>\n",
       "      <td>40.000000</td>\n",
       "      <td>9284.0</td>\n",
       "      <td>Calcutta</td>\n",
       "      <td>India</td>\n",
       "      <td>1</td>\n",
       "    </tr>\n",
       "    <tr>\n",
       "      <th>143</th>\n",
       "      <td>TCS</td>\n",
       "      <td>33.000000</td>\n",
       "      <td>9024.0</td>\n",
       "      <td>Calcutta</td>\n",
       "      <td>India</td>\n",
       "      <td>1</td>\n",
       "    </tr>\n",
       "    <tr>\n",
       "      <th>145</th>\n",
       "      <td>Infosys</td>\n",
       "      <td>44.000000</td>\n",
       "      <td>4034.0</td>\n",
       "      <td>Delhi</td>\n",
       "      <td>India</td>\n",
       "      <td>1</td>\n",
       "    </tr>\n",
       "    <tr>\n",
       "      <th>146</th>\n",
       "      <td>TCS</td>\n",
       "      <td>33.000000</td>\n",
       "      <td>5034.0</td>\n",
       "      <td>Mumbai</td>\n",
       "      <td>India</td>\n",
       "      <td>1</td>\n",
       "    </tr>\n",
       "  </tbody>\n",
       "</table>\n",
       "</div>"
      ],
      "text/plain": [
       "                       company        age  salary       place country  gender\n",
       "6                          TCS  31.959677  6000.0     Chennai   India       1\n",
       "7                      Infosys  23.000000  7000.0      Mumbai   India       1\n",
       "8                          TCS  34.000000  8000.0    Calcutta   India       1\n",
       "24                         TCS  31.959677  7084.0     Chennai   India       1\n",
       "25                     Infosys  23.000000  8943.0      Mumbai   India       1\n",
       "26                         TCS  34.000000  8345.0    Calcutta   India       1\n",
       "27                         CTS  45.000000  9284.0       Delhi   India       1\n",
       "28                         CTS  23.000000  9876.0      Mumbai   India       1\n",
       "35                         TCS  35.000000  9024.0      Mumbai   India       1\n",
       "44                         TCS  35.000000  8000.0       Noida   India       1\n",
       "45                         CTS  46.000000  9000.0   Hyderabad   India       1\n",
       "61                         NaN  25.000000  8943.0      Mumbai   India       1\n",
       "62   Tata Consultancy Services  36.000000  8345.0      Mumbai   India       1\n",
       "63                         CTS  41.000000  9284.0      Mumbai   India       1\n",
       "71                         TCS  34.000000  9024.0      Mumbai   India       1\n",
       "81                         CTS  43.000000  9000.0        Pune   India       1\n",
       "96                         TCS  31.959677  7084.0      Mumbai   India       1\n",
       "97                     Infosys  22.000000  8943.0    Calcutta   India       1\n",
       "98                         TCS  33.000000  8345.0       Delhi   India       1\n",
       "99                         CTS  44.000000  9284.0  Podicherry   India       1\n",
       "106                    Infosys  22.000000  8202.0      Cochin   India       1\n",
       "107                        TCS  31.959677  9024.0     Chennai   India       1\n",
       "116                        TCS  33.000000  8787.0      Mumbai   India       1\n",
       "117                        CTS  44.000000  9876.0      Mumbai   India       1\n",
       "124                    Infosys  22.000000  8787.0    Calcutta   India       1\n",
       "125                        TCS  33.000000  5654.0      Mumbai   India       1\n",
       "126                        TCS  20.000000  5009.0      Mumbai   India       1\n",
       "132                        TCS  31.959677  7084.0      Cochin   India       1\n",
       "135                        CTS  40.000000  9284.0    Calcutta   India       1\n",
       "143                        TCS  33.000000  9024.0    Calcutta   India       1\n",
       "145                    Infosys  44.000000  4034.0       Delhi   India       1\n",
       "146                        TCS  33.000000  5034.0      Mumbai   India       1"
      ]
     },
     "execution_count": 87,
     "metadata": {},
     "output_type": "execute_result"
    }
   ],
   "source": [
    "# Select only numeric columns for IQR calculation\n",
    "numeric_df = df.select_dtypes(include=['number'])\n",
    "\n",
    "# Calculate IQR\n",
    "Q1 = numeric_df.quantile(0.25)\n",
    "Q3 = numeric_df.quantile(0.75)\n",
    "IQR = Q3 - Q1\n",
    "\n",
    "# Find outliers using the IQR method\n",
    "outliers = df[((numeric_df < (Q1 - 1.5 * IQR)) | (numeric_df > (Q3 + 1.5 * IQR))).any(axis=1)]\n",
    "\n",
    "# Display outliers\n",
    "outliers"
   ]
  },
  {
   "cell_type": "markdown",
   "id": "c3334810-bd9c-4acc-8601-38bebeb2ecf0",
   "metadata": {},
   "source": [
    "#### 3. Data Analysis"
   ]
  },
  {
   "cell_type": "code",
   "execution_count": 98,
   "id": "09c607eb-3041-43db-966f-aaafa36f71c6",
   "metadata": {},
   "outputs": [
    {
     "name": "stdout",
     "output_type": "stream",
     "text": [
      "Filtered Data (age > 40 & salary < 5000):\n",
      "     company   age  salary      place country  gender\n",
      "21   Infosys  50.0  3184.0      Delhi   India       0\n",
      "32   Infosys  45.0  4034.0   Calcutta   India       0\n",
      "39   Infosys  41.0  3000.0     Mumbai   India       0\n",
      "50   Infosys  41.0  3000.0    Chennai   India       0\n",
      "57   Infosys  51.0  3184.0  Hyderabad   India       0\n",
      "68   Infosys  43.0  4034.0     Mumbai   India       0\n",
      "75   Infosys  44.0  3000.0     Cochin   India       0\n",
      "86   Infosys  41.0  3000.0      Delhi   India       0\n",
      "93   Infosys  54.0  3184.0     Mumbai   India       0\n",
      "104  Infosys  44.0  4034.0      Delhi   India       0\n",
      "122  Infosys  44.0  3234.0     Mumbai   India       0\n",
      "129  Infosys  50.0  3184.0   Calcutta   India       0\n",
      "138      CTS  44.0  3033.0     Cochin   India       0\n",
      "140  Infosys  44.0  4034.0  Hyderabad   India       0\n",
      "145  Infosys  44.0  4034.0      Delhi   India       1\n"
     ]
    }
   ],
   "source": [
    "# 1. Filter the data\n",
    "filtered_df = df[(df['age'] > 40) & (df['salary'] < 5000)]\n",
    "print(\"Filtered Data (age > 40 & salary < 5000):\")\n",
    "print(filtered_df)"
   ]
  },
  {
   "cell_type": "code",
   "execution_count": 100,
   "id": "657856ca-30d4-41a0-b0ee-8192aa07edba",
   "metadata": {},
   "outputs": [
    {
     "data": {
      "image/png": "[encoded data removed]",
      "text/plain": [
       "<Figure size 800x500 with 1 Axes>"
      ]
     },
     "metadata": {},
     "output_type": "display_data"
    }
   ],
   "source": [
    "# 2. Scatter plot: Age vs Salary\n",
    "plt.figure(figsize=(8, 5))\n",
    "sns.scatterplot(data=df, x='age', y='salary', hue='gender')\n",
    "plt.title(\"Age vs Salary\")\n",
    "plt.xlabel(\"Age\")\n",
    "plt.ylabel(\"Salary\")\n",
    "plt.grid(True)\n",
    "plt.tight_layout()\n",
    "plt.show()"
   ]
  },
  {
   "cell_type": "code",
   "execution_count": 104,
   "id": "2e80e869-ca7c-488e-992f-f98a6e4e1746",
   "metadata": {},
   "outputs": [
    {
     "data": {
      "image/png": "[encoded data removed]",
      "text/plain": [
       "<Figure size 1000x600 with 1 Axes>"
      ]
     },
     "metadata": {},
     "output_type": "display_data"
    }
   ],
   "source": [
    "# 3. Bar plot: Number of people from each place (with no deprecation warning)\n",
    "place_counts = df['place'].value_counts().reset_index()\n",
    "place_counts.columns = ['place', 'count']\n",
    "\n",
    "plt.figure(figsize=(10, 6))\n",
    "sns.barplot(data=place_counts, x='place', y='count', hue='place', palette='viridis', legend=False)\n",
    "plt.xticks(rotation=45)\n",
    "plt.title(\"Number of People from Each Place\")\n",
    "plt.xlabel(\"Place\")\n",
    "plt.ylabel(\"Count\")\n",
    "plt.tight_layout()\n",
    "plt.show()"
   ]
  },
  {
   "cell_type": "markdown",
   "id": "664f82d3-602a-47c3-b200-70a6ab5a746a",
   "metadata": {},
   "source": [
    "#### 4. Data Encoding"
   ]
  },
  {
   "cell_type": "markdown",
   "id": "84ed7771-1d3a-4606-9bf5-4e86e906e442",
   "metadata": {},
   "source": [
    "#### Identify Categorical Columns"
   ]
  },
  {
   "cell_type": "code",
   "execution_count": 110,
   "id": "37e76624-a0c3-4e25-8fd4-4c778f83070a",
   "metadata": {},
   "outputs": [
    {
     "name": "stdout",
     "output_type": "stream",
     "text": [
      "Categorical Columns:\n",
      " Index(['company', 'place', 'country'], dtype='object')\n"
     ]
    }
   ],
   "source": [
    "categorical_cols = df.select_dtypes(include='object').columns\n",
    "print(\"Categorical Columns:\\n\", categorical_cols)"
   ]
  },
  {
   "cell_type": "markdown",
   "id": "5249a4bf-71df-4782-bc82-90a5c22d982b",
   "metadata": {},
   "source": [
    "#### Label Encoding (for binary or ordinal categories)"
   ]
  },
  {
   "cell_type": "code",
   "execution_count": 116,
   "id": "0c96ca76-7738-4a1a-ad18-33fb4537018c",
   "metadata": {},
   "outputs": [
    {
     "name": "stdout",
     "output_type": "stream",
     "text": [
      "<class 'pandas.core.frame.DataFrame'>\n",
      "Index: 144 entries, 0 to 147\n",
      "Data columns (total 7 columns):\n",
      " #   Column          Non-Null Count  Dtype  \n",
      "---  ------          --------------  -----  \n",
      " 0   company         136 non-null    object \n",
      " 1   age             144 non-null    float64\n",
      " 2   salary          144 non-null    float64\n",
      " 3   place           144 non-null    object \n",
      " 4   country         144 non-null    object \n",
      " 5   gender          144 non-null    int64  \n",
      " 6   gender_encoded  144 non-null    int64  \n",
      "dtypes: float64(2), int64(2), object(3)\n",
      "memory usage: 9.0+ KB\n"
     ]
    }
   ],
   "source": [
    "from sklearn.preprocessing import LabelEncoder\n",
    "\n",
    "le = LabelEncoder()\n",
    "df['gender_encoded'] = le.fit_transform(df['gender'])\n",
    "df.info()"
   ]
  },
  {
   "cell_type": "markdown",
   "id": "bcc13547-81e1-4077-a929-b507058ae819",
   "metadata": {},
   "source": [
    "#### One-Hot Encoding (for non-ordinal multi-class columns like place)"
   ]
  },
  {
   "cell_type": "code",
   "execution_count": 125,
   "id": "c9e839b9-3612-4971-b3fa-be0b79227a07",
   "metadata": {},
   "outputs": [
    {
     "name": "stdout",
     "output_type": "stream",
     "text": [
      "Index(['company', 'age', 'salary', 'country', 'gender', 'gender_encoded',\n",
      "       'place_Bhopal', 'place_Calcutta', 'place_Chennai', 'place_Cochin',\n",
      "       'place_Delhi', 'place_Hyderabad', 'place_Mumbai', 'place_Nagpur',\n",
      "       'place_Noida', 'place_Podicherry', 'place_Pune'],\n",
      "      dtype='object')\n"
     ]
    }
   ],
   "source": [
    "print(df.columns)"
   ]
  },
  {
   "cell_type": "code",
   "execution_count": 131,
   "id": "873bf3b2-7ff2-4f4d-9ceb-da0d0bf0220d",
   "metadata": {},
   "outputs": [
    {
     "ename": "KeyError",
     "evalue": "\"None of [Index(['place'], dtype='object')] are in the [columns]\"",
     "output_type": "error",
     "traceback": [
      "\u001b[1;31m---------------------------------------------------------------------------\u001b[0m",
      "\u001b[1;31mKeyError\u001b[0m                                  Traceback (most recent call last)",
      "Cell \u001b[1;32mIn[131], line 1\u001b[0m\n\u001b[1;32m----> 1\u001b[0m df \u001b[38;5;241m=\u001b[39m pd\u001b[38;5;241m.\u001b[39mget_dummies(df, columns\u001b[38;5;241m=\u001b[39m[\u001b[38;5;124m'\u001b[39m\u001b[38;5;124mplace\u001b[39m\u001b[38;5;124m'\u001b[39m], prefix\u001b[38;5;241m=\u001b[39m\u001b[38;5;124m'\u001b[39m\u001b[38;5;124mplace\u001b[39m\u001b[38;5;124m'\u001b[39m)\n",
      "File \u001b[1;32m~\\anaconda3\\Lib\\site-packages\\pandas\\core\\reshape\\encoding.py:169\u001b[0m, in \u001b[0;36mget_dummies\u001b[1;34m(data, prefix, prefix_sep, dummy_na, columns, sparse, drop_first, dtype)\u001b[0m\n\u001b[0;32m    167\u001b[0m     \u001b[38;5;28;01mraise\u001b[39;00m \u001b[38;5;167;01mTypeError\u001b[39;00m(\u001b[38;5;124m\"\u001b[39m\u001b[38;5;124mInput must be a list-like for parameter `columns`\u001b[39m\u001b[38;5;124m\"\u001b[39m)\n\u001b[0;32m    168\u001b[0m \u001b[38;5;28;01melse\u001b[39;00m:\n\u001b[1;32m--> 169\u001b[0m     data_to_encode \u001b[38;5;241m=\u001b[39m data[columns]\n\u001b[0;32m    171\u001b[0m \u001b[38;5;66;03m# validate prefixes and separator to avoid silently dropping cols\u001b[39;00m\n\u001b[0;32m    172\u001b[0m \u001b[38;5;28;01mdef\u001b[39;00m \u001b[38;5;21mcheck_len\u001b[39m(item, name: \u001b[38;5;28mstr\u001b[39m):\n",
      "File \u001b[1;32m~\\anaconda3\\Lib\\site-packages\\pandas\\core\\frame.py:4108\u001b[0m, in \u001b[0;36mDataFrame.__getitem__\u001b[1;34m(self, key)\u001b[0m\n\u001b[0;32m   4106\u001b[0m     \u001b[38;5;28;01mif\u001b[39;00m is_iterator(key):\n\u001b[0;32m   4107\u001b[0m         key \u001b[38;5;241m=\u001b[39m \u001b[38;5;28mlist\u001b[39m(key)\n\u001b[1;32m-> 4108\u001b[0m     indexer \u001b[38;5;241m=\u001b[39m \u001b[38;5;28mself\u001b[39m\u001b[38;5;241m.\u001b[39mcolumns\u001b[38;5;241m.\u001b[39m_get_indexer_strict(key, \u001b[38;5;124m\"\u001b[39m\u001b[38;5;124mcolumns\u001b[39m\u001b[38;5;124m\"\u001b[39m)[\u001b[38;5;241m1\u001b[39m]\n\u001b[0;32m   4110\u001b[0m \u001b[38;5;66;03m# take() does not accept boolean indexers\u001b[39;00m\n\u001b[0;32m   4111\u001b[0m \u001b[38;5;28;01mif\u001b[39;00m \u001b[38;5;28mgetattr\u001b[39m(indexer, \u001b[38;5;124m\"\u001b[39m\u001b[38;5;124mdtype\u001b[39m\u001b[38;5;124m\"\u001b[39m, \u001b[38;5;28;01mNone\u001b[39;00m) \u001b[38;5;241m==\u001b[39m \u001b[38;5;28mbool\u001b[39m:\n",
      "File \u001b[1;32m~\\anaconda3\\Lib\\site-packages\\pandas\\core\\indexes\\base.py:6200\u001b[0m, in \u001b[0;36mIndex._get_indexer_strict\u001b[1;34m(self, key, axis_name)\u001b[0m\n\u001b[0;32m   6197\u001b[0m \u001b[38;5;28;01melse\u001b[39;00m:\n\u001b[0;32m   6198\u001b[0m     keyarr, indexer, new_indexer \u001b[38;5;241m=\u001b[39m \u001b[38;5;28mself\u001b[39m\u001b[38;5;241m.\u001b[39m_reindex_non_unique(keyarr)\n\u001b[1;32m-> 6200\u001b[0m \u001b[38;5;28mself\u001b[39m\u001b[38;5;241m.\u001b[39m_raise_if_missing(keyarr, indexer, axis_name)\n\u001b[0;32m   6202\u001b[0m keyarr \u001b[38;5;241m=\u001b[39m \u001b[38;5;28mself\u001b[39m\u001b[38;5;241m.\u001b[39mtake(indexer)\n\u001b[0;32m   6203\u001b[0m \u001b[38;5;28;01mif\u001b[39;00m \u001b[38;5;28misinstance\u001b[39m(key, Index):\n\u001b[0;32m   6204\u001b[0m     \u001b[38;5;66;03m# GH 42790 - Preserve name from an Index\u001b[39;00m\n",
      "File \u001b[1;32m~\\anaconda3\\Lib\\site-packages\\pandas\\core\\indexes\\base.py:6249\u001b[0m, in \u001b[0;36mIndex._raise_if_missing\u001b[1;34m(self, key, indexer, axis_name)\u001b[0m\n\u001b[0;32m   6247\u001b[0m \u001b[38;5;28;01mif\u001b[39;00m nmissing:\n\u001b[0;32m   6248\u001b[0m     \u001b[38;5;28;01mif\u001b[39;00m nmissing \u001b[38;5;241m==\u001b[39m \u001b[38;5;28mlen\u001b[39m(indexer):\n\u001b[1;32m-> 6249\u001b[0m         \u001b[38;5;28;01mraise\u001b[39;00m \u001b[38;5;167;01mKeyError\u001b[39;00m(\u001b[38;5;124mf\u001b[39m\u001b[38;5;124m\"\u001b[39m\u001b[38;5;124mNone of [\u001b[39m\u001b[38;5;132;01m{\u001b[39;00mkey\u001b[38;5;132;01m}\u001b[39;00m\u001b[38;5;124m] are in the [\u001b[39m\u001b[38;5;132;01m{\u001b[39;00maxis_name\u001b[38;5;132;01m}\u001b[39;00m\u001b[38;5;124m]\u001b[39m\u001b[38;5;124m\"\u001b[39m)\n\u001b[0;32m   6251\u001b[0m     not_found \u001b[38;5;241m=\u001b[39m \u001b[38;5;28mlist\u001b[39m(ensure_index(key)[missing_mask\u001b[38;5;241m.\u001b[39mnonzero()[\u001b[38;5;241m0\u001b[39m]]\u001b[38;5;241m.\u001b[39munique())\n\u001b[0;32m   6252\u001b[0m     \u001b[38;5;28;01mraise\u001b[39;00m \u001b[38;5;167;01mKeyError\u001b[39;00m(\u001b[38;5;124mf\u001b[39m\u001b[38;5;124m\"\u001b[39m\u001b[38;5;132;01m{\u001b[39;00mnot_found\u001b[38;5;132;01m}\u001b[39;00m\u001b[38;5;124m not in index\u001b[39m\u001b[38;5;124m\"\u001b[39m)\n",
      "\u001b[1;31mKeyError\u001b[0m: \"None of [Index(['place'], dtype='object')] are in the [columns]\""
     ]
    }
   ],
   "source": [
    "df = pd.get_dummies(df, columns=['place'], prefix='place')"
   ]
  },
  {
   "cell_type": "code",
   "execution_count": 133,
   "id": "113b56d3-d95c-43fd-b147-dd49974f217c",
   "metadata": {},
   "outputs": [
    {
     "name": "stdout",
     "output_type": "stream",
     "text": [
      "<class 'pandas.core.frame.DataFrame'>\n",
      "Index: 144 entries, 0 to 147\n",
      "Data columns (total 17 columns):\n",
      " #   Column            Non-Null Count  Dtype  \n",
      "---  ------            --------------  -----  \n",
      " 0   company           136 non-null    object \n",
      " 1   age               144 non-null    float64\n",
      " 2   salary            144 non-null    float64\n",
      " 3   country           144 non-null    object \n",
      " 4   gender            144 non-null    int64  \n",
      " 5   gender_encoded    144 non-null    int64  \n",
      " 6   place_Bhopal      144 non-null    bool   \n",
      " 7   place_Calcutta    144 non-null    bool   \n",
      " 8   place_Chennai     144 non-null    bool   \n",
      " 9   place_Cochin      144 non-null    bool   \n",
      " 10  place_Delhi       144 non-null    bool   \n",
      " 11  place_Hyderabad   144 non-null    bool   \n",
      " 12  place_Mumbai      144 non-null    bool   \n",
      " 13  place_Nagpur      144 non-null    bool   \n",
      " 14  place_Noida       144 non-null    bool   \n",
      " 15  place_Podicherry  144 non-null    bool   \n",
      " 16  place_Pune        144 non-null    bool   \n",
      "dtypes: bool(11), float64(2), int64(2), object(2)\n",
      "memory usage: 9.4+ KB\n"
     ]
    }
   ],
   "source": [
    "df.info()"
   ]
  },
  {
   "cell_type": "markdown",
   "id": "3fdea6ef-a2dc-4d2a-b6df-a8c9e2e00cd5",
   "metadata": {},
   "source": [
    "#### 5. Feature Scaling"
   ]
  },
  {
   "cell_type": "code",
   "execution_count": 147,
   "id": "ea6a4b87-1b9f-456b-b7af-cd2267257c2e",
   "metadata": {},
   "outputs": [
    {
     "name": "stdout",
     "output_type": "stream",
     "text": [
      "Standard Scaled Data:\n",
      "         age    salary    gender  gender_encoded\n",
      "0 -1.465777  0.010324 -0.534522       -0.534522\n",
      "1 -0.247168  0.010324 -0.534522       -0.534522\n",
      "2  0.362136 -1.266072 -0.534522       -0.534522\n",
      "3  0.971441 -0.969479 -0.534522       -0.534522\n",
      "4 -1.100194 -0.545775 -0.534522       -0.534522\n",
      "Min-Max Scaled Data:\n",
      "         age    salary  gender  gender_encoded\n",
      "0  0.081081  0.480650     0.0             0.0\n",
      "1  0.351351  0.480650     0.0             0.0\n",
      "2  0.486486  0.137817     0.0             0.0\n",
      "3  0.621622  0.217480     0.0             0.0\n",
      "4  0.162162  0.331285     0.0             0.0\n"
     ]
    }
   ],
   "source": [
    "from sklearn.preprocessing import StandardScaler, MinMaxScaler\n",
    "\n",
    "# Step 1: Select only numeric columns\n",
    "numeric_cols = df.select_dtypes(include=['int64', 'float64']).columns\n",
    "df_numeric = df[numeric_cols]\n",
    "\n",
    "# Step 2: Apply scalers\n",
    "standard_scaler = StandardScaler()\n",
    "minmax_scaler = MinMaxScaler()\n",
    "\n",
    "standard_scaled = pd.DataFrame(standard_scaler.fit_transform(df_numeric), columns=df_numeric.columns)\n",
    "minmax_scaled = pd.DataFrame(minmax_scaler.fit_transform(df_numeric), columns=df_numeric.columns)\n",
    "\n",
    "# Step 3: Preview\n",
    "print(\"Standard Scaled Data:\\n\", standard_scaled.head())\n",
    "print(\"Min-Max Scaled Data:\\n\", minmax_scaled.head())\n"
   ]
  },
  {
   "cell_type": "markdown",
   "id": "ff7e2604-b953-4c9b-aae3-526a6f826c40",
   "metadata": {},
   "source": [
    "## Summary"
   ]
  },
  {
   "cell_type": "markdown",
   "id": "bc0c30ef-86cc-4205-85a8-4540ec0edbcb",
   "metadata": {},
   "source": [
    "### Data Exploration Summary\n",
    "#### Unique Values in Each Column:\n",
    "Company: 7 unique values (e.g., 'TCS', 'Infosys', 'CTS', 'Tata Consultancy Services', 'Infosys Pvt Lmt', etc.)\n",
    "\n",
    "Age: 30 unique values (including 0, which will be handled as an inappropriate value)\n",
    "\n",
    "Salary: 41 unique values\n",
    "\n",
    "Place: 12 unique places (e.g., 'Chennai', 'Mumbai', 'Delhi', 'Cochin', etc.)\n",
    "\n",
    "Country: Only 'India'\n",
    "\n",
    "Gender: 0 and 1 (likely encoded as Male = 0, Female = 1 or vice versa)\n",
    "\n",
    "### Statistical Summary (Before Cleaning):\n",
    "Age ranges from 0 to 54, mean = ~30.5\n",
    "\n",
    "Salary ranges from 1089 to 9876, mean = ~5312.5\n",
    "\n",
    "Place with the most entries: Mumbai\n",
    "\n",
    "Gender encoded with two values: 0 and 1"
   ]
  },
  {
   "cell_type": "markdown",
   "id": "44739584-7796-405f-8f0f-ef2bbf02e41e",
   "metadata": {},
   "source": [
    "### Data Cleaning Summary\n",
    "#### Missing Values Before Treatment:\n",
    "company: 8 missing\n",
    "\n",
    "age: 24 (including previous 0s)\n",
    "\n",
    "salary: 24\n",
    "\n",
    "place: 14\n",
    "\n",
    "country, gender: No missing values\n",
    "\n",
    "#### All missing values have been filled:\n",
    "\n",
    "Numerical columns (age, salary) → filled with mean\n",
    "\n",
    "Categorical column (place) → filled with mode\n",
    "\n",
    "#### Duplicate Rows:\n",
    "4 duplicate rows removed\n",
    "\n",
    "#### Outliers:\n",
    "No significant outliers were detected based on the IQR method for age and salary.\n",
    "\n"
   ]
  }
 ],
 "metadata": {
  "kernelspec": {
   "display_name": "Python [conda env:base] *",
   "language": "python",
   "name": "conda-base-py"
  },
  "language_info": {
   "codemirror_mode": {
    "name": "ipython",
    "version": 3
   },
   "file_extension": ".py",
   "mimetype": "text/x-python",
   "name": "python",
   "nbconvert_exporter": "python",
   "pygments_lexer": "ipython3",
   "version": "3.12.7"
  }
 },
 "nbformat": 4,
 "nbformat_minor": 5
}
