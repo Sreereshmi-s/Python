{
 "cells": [
  {
   "cell_type": "markdown",
   "id": "0631dacc-4811-4198-a8d2-fdb68c137f94",
   "metadata": {},
   "source": [
    "### Assignemt 6"
   ]
  },
  {
   "cell_type": "markdown",
   "id": "9c986a62-aeb0-4587-b9ff-09ebcda8b6fd",
   "metadata": {},
   "source": [
    "####  1. University's course catalog"
   ]
  },
  {
   "cell_type": "code",
   "execution_count": 2,
   "id": "3ecf6a04-4649-4377-b9bc-780951090a5b",
   "metadata": {},
   "outputs": [
    {
     "name": "stdout",
     "output_type": "stream",
     "text": [
      "CS101: Introduction to Computer Science (3 credit hours) - Required for major\n",
      "HIST201: World History (3 credit hours) - Elective Type: liberal arts\n"
     ]
    }
   ],
   "source": [
    "class Course:\n",
    "    def __init__(self, course_code, course_name, credit_hours):\n",
    "        self.course_code = course_code\n",
    "        self.course_name = course_name\n",
    "        self.credit_hours = credit_hours\n",
    "\n",
    "    def display_info(self):\n",
    "        return f\"{self.course_code}: {self.course_name} ({self.credit_hours} credit hours)\"\n",
    "\n",
    "\n",
    "class CoreCourse(Course):\n",
    "    def __init__(self, course_code, course_name, credit_hours, required_for_major):\n",
    "        super().__init__(course_code, course_name, credit_hours)\n",
    "        self.required_for_major = required_for_major\n",
    "\n",
    "    def display_info(self):\n",
    "        required_status = \"Required\" if self.required_for_major else \"Optional\"\n",
    "        return f\"{super().display_info()} - {required_status} for major\"\n",
    "\n",
    "\n",
    "class ElectiveCourse(Course):\n",
    "    def __init__(self, course_code, course_name, credit_hours, elective_type):\n",
    "        super().__init__(course_code, course_name, credit_hours)\n",
    "        self.elective_type = elective_type\n",
    "\n",
    "    def display_info(self):\n",
    "        return f\"{super().display_info()} - Elective Type: {self.elective_type}\"\n",
    "\n",
    "\n",
    "# Example Usage\n",
    "if __name__ == \"__main__\":\n",
    "    core_course = CoreCourse(\"CS101\", \"Introduction to Computer Science\", 3, True)\n",
    "    elective_course = ElectiveCourse(\"HIST201\", \"World History\", 3, \"liberal arts\")\n",
    "\n",
    "    print(core_course.display_info())\n",
    "    print(elective_course.display_info())"
   ]
  },
  {
   "cell_type": "markdown",
   "id": "2b902586-c5f3-40b4-842d-1e5b533237e1",
   "metadata": {},
   "source": [
    "#### 2. Employee Module Import"
   ]
  },
  {
   "cell_type": "code",
   "execution_count": 6,
   "id": "a6a1d81f-b5ae-4585-903a-c3c6037c7edd",
   "metadata": {},
   "outputs": [
    {
     "name": "stdout",
     "output_type": "stream",
     "text": [
      "Employee Name: Alice\n",
      "Employee Salary: 50000\n"
     ]
    }
   ],
   "source": [
    "from employee import Employee\n",
    "\n",
    "# Creating an Employee object\n",
    "emp = Employee(\"Alice\", 50000)\n",
    "\n",
    "# Displaying the name and salary\n",
    "print(\"Employee Name:\", emp.get_name())\n",
    "print(\"Employee Salary:\", emp.get_salary())\n"
   ]
  }
 ],
 "metadata": {
  "kernelspec": {
   "display_name": "Python [conda env:base] *",
   "language": "python",
   "name": "conda-base-py"
  },
  "language_info": {
   "codemirror_mode": {
    "name": "ipython",
    "version": 3
   },
   "file_extension": ".py",
   "mimetype": "text/x-python",
   "name": "python",
   "nbconvert_exporter": "python",
   "pygments_lexer": "ipython3",
   "version": "3.12.7"
  }
 },
 "nbformat": 4,
 "nbformat_minor": 5
}
