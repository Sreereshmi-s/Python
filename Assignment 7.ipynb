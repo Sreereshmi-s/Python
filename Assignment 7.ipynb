{
 "cells": [
  {
   "cell_type": "markdown",
   "id": "b34cfac9-07d3-47d6-aaff-66d593b807d3",
   "metadata": {},
   "source": [
    "### Numpy Pandas"
   ]
  },
  {
   "cell_type": "markdown",
   "id": "95baa2e0-4793-4299-a7ee-893ede937df2",
   "metadata": {},
   "source": [
    "#### 1. Create a numpy array containing the numbers from 1 to 10, and then reshape it to a 2x5 matrix."
   ]
  },
  {
   "cell_type": "code",
   "execution_count": 44,
   "id": "6e9694e3-33a8-4bf1-9690-312b944d784e",
   "metadata": {},
   "outputs": [
    {
     "name": "stdout",
     "output_type": "stream",
     "text": [
      "Array with numbers from 1 to 10:  [ 1  2  3  4  5  6  7  8  9 10]\n",
      "Reshaped the array to 2x5 matrix: \n",
      "[[ 1  2  3  4  5]\n",
      " [ 6  7  8  9 10]]\n"
     ]
    }
   ],
   "source": [
    "import numpy as np\n",
    "\n",
    "# Create an array with numbers from 1 to 10\n",
    "arr = np.arange(1, 11)\n",
    "\n",
    "# Print the array\n",
    "print('Array with numbers from 1 to 10: ',arr)\n",
    "\n",
    "# Reshape it to a 2x5 matrix\n",
    "reshaped_arr = arr.reshape(2, 5)\n",
    "\n",
    "# Print the reshaped array\n",
    "print('Reshaped the array to 2x5 matrix: ')\n",
    "print(reshaped_arr)\n"
   ]
  },
  {
   "cell_type": "markdown",
   "id": "06a23d68-2c09-47a1-9912-07161c2f9556",
   "metadata": {},
   "source": [
    "#### 2. Create a numpy array containing the numbers from 1 to 20, and then extract the elements between the 5th and 15th index."
   ]
  },
  {
   "cell_type": "code",
   "execution_count": 46,
   "id": "f7e26015-c8f9-4fc5-afa3-fe720d5ae64b",
   "metadata": {},
   "outputs": [
    {
     "name": "stdout",
     "output_type": "stream",
     "text": [
      "Array with numbers from 1 to 10:  [ 1  2  3  4  5  6  7  8  9 10 11 12 13 14 15 16 17 18 19 20]\n",
      "Print the extracted array: [ 6  7  8  9 10 11 12 13 14 15]\n"
     ]
    }
   ],
   "source": [
    "import numpy as np\n",
    "\n",
    "# Create an array with numbers from 1 to 20\n",
    "arr = np.arange(1, 21)\n",
    "\n",
    "# Print the array\n",
    "print('Array with numbers from 1 to 10: ',arr)\n",
    "\n",
    "# Extract elements from index 5 to 15 (excluding index 15)\n",
    "extracted_array = arr[5:15]\n",
    "\n",
    "#print the extracted array\n",
    "print('Print the extracted array:', extracted_array)"
   ]
  },
  {
   "cell_type": "markdown",
   "id": "c419d59b-4ae4-47ea-9951-80768cb66456",
   "metadata": {},
   "source": [
    "#### 3. Create a Pandas series with the following data: {'apples': 3, 'bananas': 2, 'oranges': 1}. Then, add a new item to the series with the key 'pears' and the value 4."
   ]
  },
  {
   "cell_type": "code",
   "execution_count": 48,
   "id": "e74adbfa-47d4-408d-b60e-eda92fe3480b",
   "metadata": {},
   "outputs": [
    {
     "name": "stdout",
     "output_type": "stream",
     "text": [
      "apples     3\n",
      "bananas    2\n",
      "oranges    1\n",
      "pears      4\n",
      "dtype: int64\n"
     ]
    }
   ],
   "source": [
    "import pandas as pd\n",
    "\n",
    "# Create the initial Series\n",
    "fruit_series = pd.Series({'apples': 3, 'bananas': 2, 'oranges': 1})\n",
    "\n",
    "# Add a new item to the Series\n",
    "fruit_series['pears'] = 4\n",
    "\n",
    "print(fruit_series)"
   ]
  },
  {
   "cell_type": "markdown",
   "id": "63f07b4e-425a-4b61-a76e-5e7cb7553fdd",
   "metadata": {},
   "source": [
    "#### 4. Create a dataframe with the following columns: name, age, and gender. The dataframe should have 10 rows of data."
   ]
  },
  {
   "cell_type": "code",
   "execution_count": 50,
   "id": "81d3fb45-3ac9-4244-9dec-a2c8b57896c5",
   "metadata": {},
   "outputs": [
    {
     "name": "stdout",
     "output_type": "stream",
     "text": [
      "      name  age  gender\n",
      "0    Alice   25  Female\n",
      "1      Bob   30    Male\n",
      "2  Charlie   22    Male\n",
      "3    David   28    Male\n",
      "4     Emma   24  Female\n",
      "5    Frank   35    Male\n",
      "6    Grace   27  Female\n",
      "7   Hannah   29  Female\n",
      "8      Ian   26    Male\n",
      "9     Jack   31    Male\n"
     ]
    }
   ],
   "source": [
    "import pandas as pd\n",
    "\n",
    "# Create a dictionary with data\n",
    "data = {\n",
    "    'name': ['Alice', 'Bob', 'Charlie', 'David', 'Emma', 'Frank', 'Grace', 'Hannah', 'Ian', 'Jack'],\n",
    "    'age': [25, 30, 22, 28, 24, 35, 27, 29, 26, 31],\n",
    "    'gender': ['Female', 'Male', 'Male', 'Male', 'Female', 'Male', 'Female', 'Female', 'Male', 'Male']\n",
    "}\n",
    "\n",
    "# Create DataFrame\n",
    "df = pd.DataFrame(data)\n",
    "\n",
    "# Display DataFrame\n",
    "print(df)"
   ]
  },
  {
   "cell_type": "markdown",
   "id": "2153e602-be88-4cfb-89b9-92d70a66d9df",
   "metadata": {},
   "source": [
    "#### 5. Add a new column to the data frame created in question 1, called occupation. The values for this column should be Programmer, Manager, and Analyst, corresponding to the rows in the dataframe."
   ]
  },
  {
   "cell_type": "code",
   "execution_count": 52,
   "id": "3e33339e-9a2d-41bc-985b-34b1615269f5",
   "metadata": {},
   "outputs": [
    {
     "name": "stdout",
     "output_type": "stream",
     "text": [
      "      name  age  gender  occupation\n",
      "0    Alice   25  Female  Programmer\n",
      "1      Bob   30    Male     Manager\n",
      "2  Charlie   22    Male     Analyst\n",
      "3    David   28    Male  Programmer\n",
      "4     Emma   24  Female     Manager\n",
      "5    Frank   35    Male     Analyst\n",
      "6    Grace   27  Female  Programmer\n",
      "7   Hannah   29  Female     Manager\n",
      "8      Ian   26    Male     Analyst\n",
      "9     Jack   31    Male  Programmer\n"
     ]
    }
   ],
   "source": [
    "import pandas as pd\n",
    "\n",
    "# Create a dictionary with data\n",
    "data = {\n",
    "    'name': ['Alice', 'Bob', 'Charlie', 'David', 'Emma', 'Frank', 'Grace', 'Hannah', 'Ian', 'Jack'],\n",
    "    'age': [25, 30, 22, 28, 24, 35, 27, 29, 26, 31],\n",
    "    'gender': ['Female', 'Male', 'Male', 'Male', 'Female', 'Male', 'Female', 'Female', 'Male', 'Male']\n",
    "}\n",
    "\n",
    "# Create DataFrame\n",
    "df = pd.DataFrame(data)\n",
    "\n",
    "# Add the occupation column\n",
    "occupations = ['Programmer', 'Manager', 'Analyst', 'Programmer', 'Manager', \n",
    "               'Analyst', 'Programmer', 'Manager', 'Analyst', 'Programmer']\n",
    "\n",
    "df['occupation'] = occupations\n",
    "\n",
    "# Display DataFrame\n",
    "print(df)"
   ]
  },
  {
   "cell_type": "markdown",
   "id": "500a921c-bb91-4fa7-b46b-249d9156fafa",
   "metadata": {},
   "source": [
    "#### 6. Select the rows of the dataframe where the age is greater than or equal to 30."
   ]
  },
  {
   "cell_type": "code",
   "execution_count": 54,
   "id": "f8f8e414-9fce-4d5a-9f75-4f74ec6bfc27",
   "metadata": {},
   "outputs": [
    {
     "name": "stdout",
     "output_type": "stream",
     "text": [
      "     name  age  gender  occupation\n",
      "1     Bob   30    Male     Manager\n",
      "5   Frank   35    Male     Analyst\n",
      "7  Hannah   35  Female     Manager\n",
      "9    Jack   31    Male  Programmer\n"
     ]
    }
   ],
   "source": [
    "import pandas as pd\n",
    "\n",
    "# Create a dictionary with data\n",
    "data = {\n",
    "    'name': ['Alice', 'Bob', 'Charlie', 'David', 'Emma', 'Frank', 'Grace', 'Hannah', 'Ian', 'Jack'],\n",
    "    'age': [25, 30, 22, 28, 24, 35, 27, 35, 26, 31],\n",
    "    'gender': ['Female', 'Male', 'Male', 'Male', 'Female', 'Male', 'Female', 'Female', 'Male', 'Male']\n",
    "}\n",
    "\n",
    "# Create DataFrame\n",
    "df = pd.DataFrame(data)\n",
    "\n",
    "# Add the occupation column\n",
    "occupations = ['Programmer', 'Manager', 'Analyst', 'Programmer', 'Manager', \n",
    "               'Analyst', 'Programmer', 'Manager', 'Analyst', 'Programmer']\n",
    "\n",
    "df['occupation'] = occupations\n",
    "\n",
    "# Select rows where age is greater than or equal to 30\n",
    "df_filtered = df[df['age'] >= 30]\n",
    "\n",
    "# Display filtered DataFrame\n",
    "print(df_filtered)"
   ]
  },
  {
   "cell_type": "markdown",
   "id": "25cbcbf6-bcdb-4d24-a4ed-11df0d68c0a7",
   "metadata": {},
   "source": [
    "#### 7. Convert this dataframe to a csv file and read that csv file, finally display the contents."
   ]
  },
  {
   "cell_type": "code",
   "execution_count": 56,
   "id": "780f1089-13bd-4691-bf96-69df3e37f9ad",
   "metadata": {},
   "outputs": [
    {
     "name": "stdout",
     "output_type": "stream",
     "text": [
      "      name  age  gender  occupation\n",
      "0    Alice   25  Female  Programmer\n",
      "1      Bob   30    Male     Manager\n",
      "2  Charlie   22    Male     Analyst\n",
      "3    David   28    Male  Programmer\n",
      "4     Emma   24  Female     Manager\n",
      "5    Frank   35    Male     Analyst\n",
      "6    Grace   27  Female  Programmer\n",
      "7   Hannah   29  Female     Manager\n",
      "8      Ian   26    Male     Analyst\n",
      "9     Jack   31    Male  Programmer\n"
     ]
    }
   ],
   "source": [
    "import pandas as pd\n",
    "\n",
    "# Create a dictionary with data\n",
    "data = {\n",
    "    'name': ['Alice', 'Bob', 'Charlie', 'David', 'Emma', 'Frank', 'Grace', 'Hannah', 'Ian', 'Jack'],\n",
    "    'age': [25, 30, 22, 28, 24, 35, 27, 29, 26, 31],\n",
    "    'gender': ['Female', 'Male', 'Male', 'Male', 'Female', 'Male', 'Female', 'Female', 'Male', 'Male'],\n",
    "}\n",
    "\n",
    "# Create DataFrame\n",
    "df = pd.DataFrame(data)\n",
    "\n",
    "# Add the occupation column\n",
    "occupations = ['Programmer', 'Manager', 'Analyst', 'Programmer', 'Manager', \n",
    "               'Analyst', 'Programmer', 'Manager', 'Analyst', 'Programmer']\n",
    "df['occupation'] = occupations\n",
    "\n",
    "# Save to CSV file\n",
    "csv_filename = \"people_data.csv\"\n",
    "df.to_csv(csv_filename, index=False)\n",
    "\n",
    "# Read the CSV file\n",
    "df_read = pd.read_csv(csv_filename)\n",
    "\n",
    "# Display contents\n",
    "print(df_read)"
   ]
  }
 ],
 "metadata": {
  "kernelspec": {
   "display_name": "Python [conda env:base] *",
   "language": "python",
   "name": "conda-base-py"
  },
  "language_info": {
   "codemirror_mode": {
    "name": "ipython",
    "version": 3
   },
   "file_extension": ".py",
   "mimetype": "text/x-python",
   "name": "python",
   "nbconvert_exporter": "python",
   "pygments_lexer": "ipython3",
   "version": "3.12.7"
  }
 },
 "nbformat": 4,
 "nbformat_minor": 5
}
