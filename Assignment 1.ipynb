{
 "cells": [
  {
   "cell_type": "markdown",
   "id": "c6858780-2b31-43f0-860f-611368d237ff",
   "metadata": {},
   "source": [
    "## Python Fundamentals"
   ]
  },
  {
   "cell_type": "code",
   "execution_count": 119,
   "id": "1189f2f2-8ab4-4411-a79a-ddadc9351802",
   "metadata": {},
   "outputs": [
    {
     "name": "stdout",
     "output_type": "stream",
     "text": [
      "John ST2001 john@gmail.com\n"
     ]
    }
   ],
   "source": [
    "# Exercise 1\n",
    "print(\"John ST2001 john@gmail.com\")"
   ]
  },
  {
   "cell_type": "code",
   "execution_count": 120,
   "id": "052e6cae-03dc-472d-be51-f5618d000045",
   "metadata": {},
   "outputs": [
    {
     "name": "stdout",
     "output_type": "stream",
     "text": [
      "John\n",
      "ST2001\n",
      "john@gmail.com\n"
     ]
    }
   ],
   "source": [
    "# Exercise 2\n",
    "print(\"John\\nST2001\\njohn@gmail.com\")"
   ]
  },
  {
   "cell_type": "code",
   "execution_count": 121,
   "id": "3361ed0e-99c0-401e-bce4-34c7eae0db59",
   "metadata": {},
   "outputs": [
    {
     "name": "stdout",
     "output_type": "stream",
     "text": [
      "14 + 7 = 21\n",
      "14 * 7 = 98\n",
      "14 - 7 = 7\n",
      "14 / 7 = 2.0\n"
     ]
    }
   ],
   "source": [
    "# Exercise 3\n",
    "num1 = 14\n",
    "num2 = 7\n",
    "\n",
    "# Calculations\n",
    "print(num1, '+', num2, '=', num1+num2)\n",
    "print(num1, '*', num2, '=', num1*num2)\n",
    "print(num1, '-', num2, '=', num1-num2)\n",
    "print(num1, '/', num2, '=', num1/num2)"
   ]
  },
  {
   "cell_type": "code",
   "execution_count": 122,
   "id": "e7d6a684-9e58-4416-9f74-6ebdd6a7c5ae",
   "metadata": {},
   "outputs": [
    {
     "name": "stdout",
     "output_type": "stream",
     "text": [
      "1\n",
      "2\n",
      "3\n",
      "4\n",
      "5\n"
     ]
    }
   ],
   "source": [
    "# Exercise 4\n",
    "for i in range(1,6):\n",
    "    print(i)\n"
   ]
  },
  {
   "cell_type": "code",
   "execution_count": 123,
   "id": "8cb0cf5e-dbe5-4972-b354-d3aa8aa0df6b",
   "metadata": {},
   "outputs": [
    {
     "name": "stdout",
     "output_type": "stream",
     "text": [
      "\"SDK\" stands for \"Software Development Kit\", whereas \"IDE\" stands for \"Integrated Development Environment\".\n",
      "\"SDK\" stands for \"Software Development Kit\", whereas \"IDE\" stands for \"Integrated Development Environment\".\n"
     ]
    }
   ],
   "source": [
    "# Exercise 5\n",
    "print('\"SDK\" stands for \"Software Development Kit\", whereas \"IDE\" stands for \"Integrated Development Environment\".')\n",
    "\n",
    "# Using escape character\n",
    "print(\"\\\"SDK\\\" stands for \\\"Software Development Kit\\\", whereas \\\"IDE\\\" stands for \\\"Integrated Development Environment\\\".\")"
   ]
  },
  {
   "cell_type": "code",
   "execution_count": 124,
   "id": "250dee1a-9c65-4d59-91a6-89321faf14a3",
   "metadata": {},
   "outputs": [
    {
     "name": "stdout",
     "output_type": "stream",
     "text": [
      "python is an \"awesome\" language.\n",
      "python\n",
      "\t2023\n",
      "I'm from Entri\n",
      "5\n",
      "e\n",
      "Entri\n",
      "2023\n",
      "Entr2023\n",
      "Entri*20"
     ]
    }
   ],
   "source": [
    "# Exercise 6\n",
    "print(\"python is an \\\"awesome\\\" language.\")\n",
    "print(\"python\\n\\t2023\")\n",
    "print('I\\'m from Entri.\\b')\n",
    "print(\"\\65\")\n",
    "print(\"\\x65\")\n",
    "print(\"Entri\", \"2023\", sep=\"\\n\")\n",
    "print(\"Entri\", \"2023\", sep=\"\\b\")\n",
    "print(\"Entri\", \"2023\", sep=\"*\", end=\"\\b\\b\\b\\b\")"
   ]
  },
  {
   "cell_type": "code",
   "execution_count": 125,
   "id": "2599d87d-7b0d-4a73-9fff-5d2a718cd460",
   "metadata": {},
   "outputs": [
    {
     "name": "stdout",
     "output_type": "stream",
     "text": [
      "<class 'int'>\n",
      "<class 'str'>\n",
      "<class 'float'>\n",
      "Sum: 178.3\n",
      "Datatype of sum: <class 'float'>\n"
     ]
    }
   ],
   "source": [
    "# Exercise 7\n",
    "num = 23\n",
    "textnum = \"57\"\n",
    "decimal = 98.3\n",
    "print(type(num))\n",
    "print(type(textnum))\n",
    "print(type(decimal))\n",
    "\n",
    "sum_result = num + int(textnum) + decimal\n",
    "print(\"Sum:\", sum_result)\n",
    "print(\"Datatype of sum:\", type(sum_result))"
   ]
  },
  {
   "cell_type": "code",
   "execution_count": 126,
   "id": "f7bd0290-00d5-427d-905f-f7b6a2278cdc",
   "metadata": {},
   "outputs": [
    {
     "name": "stdout",
     "output_type": "stream",
     "text": [
      "Total number of days in year: 365\n",
      "Total number of hours in a day: 24\n",
      "Total number of minutes in an hour: 60\n",
      "Total number of minutes in a year: 525600\n"
     ]
    }
   ],
   "source": [
    "# Exercise 8\n",
    "days_in_year = 365\n",
    "hours_in_day = 24\n",
    "minutes_in_hour = 60\n",
    "total_minutes = days_in_year * hours_in_day * minutes_in_hour\n",
    "print(\"Total number of days in year:\", days_in_year)\n",
    "print(\"Total number of hours in a day:\", hours_in_day)\n",
    "print(\"Total number of minutes in an hour:\", minutes_in_hour)\n",
    "print(\"Total number of minutes in a year:\", total_minutes)"
   ]
  },
  {
   "cell_type": "code",
   "execution_count": 127,
   "id": "ef903896-98d6-4601-90db-ceca60e57c37",
   "metadata": {},
   "outputs": [
    {
     "name": "stdout",
     "output_type": "stream",
     "text": [
      "Please enter your name\n"
     ]
    },
    {
     "name": "stdin",
     "output_type": "stream",
     "text": [
      " Sreereshmi\n"
     ]
    },
    {
     "name": "stdout",
     "output_type": "stream",
     "text": [
      "\n",
      "\n",
      "Hi Sreereshmi, welcome to Python programming :)\n"
     ]
    }
   ],
   "source": [
    "#Exercise 9\n",
    "print(\"Please enter your name\")\n",
    "name = input()\n",
    "print(\"\\n\")\n",
    "print(\"Hi \" + name + \", welcome to Python programming :)\")"
   ]
  },
  {
   "cell_type": "code",
   "execution_count": 141,
   "id": "e8cf455e-8eb0-46cc-a505-e1d466970c77",
   "metadata": {},
   "outputs": [
    {
     "name": "stdin",
     "output_type": "stream",
     "text": [
      " 1100\n"
     ]
    },
    {
     "name": "stdout",
     "output_type": "stream",
     "text": [
      "Entered pounds: 1100.0\n",
      "Dollar: 1364.0\n"
     ]
    }
   ],
   "source": [
    "# Exercise 10\n",
    "\n",
    "# 1 pound = 1.24 dollar\n",
    "pounds = float(input())  # Convert input to float\n",
    "dollar_rate = 1.24\n",
    "usd = pounds * dollar_rate\n",
    "print(\"Entered pounds:\",pounds)\n",
    "print(\"Dollar:\",usd)"
   ]
  },
  {
   "cell_type": "code",
   "execution_count": null,
   "id": "3e996427-7881-4245-bf6f-8e3a06acd0d7",
   "metadata": {},
   "outputs": [],
   "source": []
  }
 ],
 "metadata": {
  "kernelspec": {
   "display_name": "Python [conda env:base] *",
   "language": "python",
   "name": "conda-base-py"
  },
  "language_info": {
   "codemirror_mode": {
    "name": "ipython",
    "version": 3
   },
   "file_extension": ".py",
   "mimetype": "text/x-python",
   "name": "python",
   "nbconvert_exporter": "python",
   "pygments_lexer": "ipython3",
   "version": "3.12.7"
  }
 },
 "nbformat": 4,
 "nbformat_minor": 5
}
