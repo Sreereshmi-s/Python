{
 "cells": [
  {
   "cell_type": "markdown",
   "id": "bc11f95a-7dc1-47ea-814e-f0515ef16824",
   "metadata": {},
   "source": [
    "### Clustering Algorithms"
   ]
  },
  {
   "cell_type": "markdown",
   "id": "d8ca052d-c6cd-4a0d-9639-337017f5dcfa",
   "metadata": {},
   "source": [
    "#### 1. Loading and Preprocessing "
   ]
  },
  {
   "cell_type": "markdown",
   "id": "c95bb0e2-3118-418a-a06d-ca62431a9ed2",
   "metadata": {},
   "source": [
    "#### Import necessary libraries"
   ]
  },
  {
   "cell_type": "code",
   "execution_count": 5,
   "id": "734e5f1d-3dd7-4cf9-ab92-7810d74353b8",
   "metadata": {},
   "outputs": [],
   "source": [
    "from sklearn.datasets import load_iris\n",
    "import pandas as pd"
   ]
  },
  {
   "cell_type": "markdown",
   "id": "c16dbc11-d3cd-4fb3-80c2-00d07b029f89",
   "metadata": {},
   "source": [
    "##### Load Iris dataset"
   ]
  },
  {
   "cell_type": "code",
   "execution_count": 40,
   "id": "ffaa60fd-8211-4e42-a5b1-f442e927ecb5",
   "metadata": {},
   "outputs": [],
   "source": [
    "iris = load_iris(as_frame=True)\n",
    "df = iris.frame"
   ]
  },
  {
   "cell_type": "code",
   "execution_count": 38,
   "id": "5bacfd28-2fd9-465f-b121-b8c4744c9ed7",
   "metadata": {},
   "outputs": [
    {
     "data": {
      "text/html": [
       "<div>\n",
       "<style scoped>\n",
       "    .dataframe tbody tr th:only-of-type {\n",
       "        vertical-align: middle;\n",
       "    }\n",
       "\n",
       "    .dataframe tbody tr th {\n",
       "        vertical-align: top;\n",
       "    }\n",
       "\n",
       "    .dataframe thead th {\n",
       "        text-align: right;\n",
       "    }\n",
       "</style>\n",
       "<table border=\"1\" class=\"dataframe\">\n",
       "  <thead>\n",
       "    <tr style=\"text-align: right;\">\n",
       "      <th></th>\n",
       "      <th>sepal length (cm)</th>\n",
       "      <th>sepal width (cm)</th>\n",
       "      <th>petal length (cm)</th>\n",
       "      <th>petal width (cm)</th>\n",
       "      <th>target</th>\n",
       "    </tr>\n",
       "  </thead>\n",
       "  <tbody>\n",
       "    <tr>\n",
       "      <th>0</th>\n",
       "      <td>5.1</td>\n",
       "      <td>3.5</td>\n",
       "      <td>1.4</td>\n",
       "      <td>0.2</td>\n",
       "      <td>0</td>\n",
       "    </tr>\n",
       "    <tr>\n",
       "      <th>1</th>\n",
       "      <td>4.9</td>\n",
       "      <td>3.0</td>\n",
       "      <td>1.4</td>\n",
       "      <td>0.2</td>\n",
       "      <td>0</td>\n",
       "    </tr>\n",
       "    <tr>\n",
       "      <th>2</th>\n",
       "      <td>4.7</td>\n",
       "      <td>3.2</td>\n",
       "      <td>1.3</td>\n",
       "      <td>0.2</td>\n",
       "      <td>0</td>\n",
       "    </tr>\n",
       "    <tr>\n",
       "      <th>3</th>\n",
       "      <td>4.6</td>\n",
       "      <td>3.1</td>\n",
       "      <td>1.5</td>\n",
       "      <td>0.2</td>\n",
       "      <td>0</td>\n",
       "    </tr>\n",
       "    <tr>\n",
       "      <th>4</th>\n",
       "      <td>5.0</td>\n",
       "      <td>3.6</td>\n",
       "      <td>1.4</td>\n",
       "      <td>0.2</td>\n",
       "      <td>0</td>\n",
       "    </tr>\n",
       "  </tbody>\n",
       "</table>\n",
       "</div>"
      ],
      "text/plain": [
       "   sepal length (cm)  sepal width (cm)  petal length (cm)  petal width (cm)  \\\n",
       "0                5.1               3.5                1.4               0.2   \n",
       "1                4.9               3.0                1.4               0.2   \n",
       "2                4.7               3.2                1.3               0.2   \n",
       "3                4.6               3.1                1.5               0.2   \n",
       "4                5.0               3.6                1.4               0.2   \n",
       "\n",
       "   target  \n",
       "0       0  \n",
       "1       0  \n",
       "2       0  \n",
       "3       0  \n",
       "4       0  "
      ]
     },
     "execution_count": 38,
     "metadata": {},
     "output_type": "execute_result"
    }
   ],
   "source": [
    "df.head()"
   ]
  },
  {
   "cell_type": "code",
   "execution_count": 42,
   "id": "9fc8a4c6-b4fb-4960-98d1-2298c6c7ae8f",
   "metadata": {},
   "outputs": [
    {
     "data": {
      "text/html": [
       "<div>\n",
       "<style scoped>\n",
       "    .dataframe tbody tr th:only-of-type {\n",
       "        vertical-align: middle;\n",
       "    }\n",
       "\n",
       "    .dataframe tbody tr th {\n",
       "        vertical-align: top;\n",
       "    }\n",
       "\n",
       "    .dataframe thead th {\n",
       "        text-align: right;\n",
       "    }\n",
       "</style>\n",
       "<table border=\"1\" class=\"dataframe\">\n",
       "  <thead>\n",
       "    <tr style=\"text-align: right;\">\n",
       "      <th></th>\n",
       "      <th>sepal length (cm)</th>\n",
       "      <th>sepal width (cm)</th>\n",
       "      <th>petal length (cm)</th>\n",
       "      <th>petal width (cm)</th>\n",
       "      <th>target</th>\n",
       "      <th>species</th>\n",
       "    </tr>\n",
       "  </thead>\n",
       "  <tbody>\n",
       "    <tr>\n",
       "      <th>0</th>\n",
       "      <td>5.1</td>\n",
       "      <td>3.5</td>\n",
       "      <td>1.4</td>\n",
       "      <td>0.2</td>\n",
       "      <td>0</td>\n",
       "      <td>setosa</td>\n",
       "    </tr>\n",
       "    <tr>\n",
       "      <th>1</th>\n",
       "      <td>4.9</td>\n",
       "      <td>3.0</td>\n",
       "      <td>1.4</td>\n",
       "      <td>0.2</td>\n",
       "      <td>0</td>\n",
       "      <td>setosa</td>\n",
       "    </tr>\n",
       "    <tr>\n",
       "      <th>2</th>\n",
       "      <td>4.7</td>\n",
       "      <td>3.2</td>\n",
       "      <td>1.3</td>\n",
       "      <td>0.2</td>\n",
       "      <td>0</td>\n",
       "      <td>setosa</td>\n",
       "    </tr>\n",
       "    <tr>\n",
       "      <th>3</th>\n",
       "      <td>4.6</td>\n",
       "      <td>3.1</td>\n",
       "      <td>1.5</td>\n",
       "      <td>0.2</td>\n",
       "      <td>0</td>\n",
       "      <td>setosa</td>\n",
       "    </tr>\n",
       "    <tr>\n",
       "      <th>4</th>\n",
       "      <td>5.0</td>\n",
       "      <td>3.6</td>\n",
       "      <td>1.4</td>\n",
       "      <td>0.2</td>\n",
       "      <td>0</td>\n",
       "      <td>setosa</td>\n",
       "    </tr>\n",
       "  </tbody>\n",
       "</table>\n",
       "</div>"
      ],
      "text/plain": [
       "   sepal length (cm)  sepal width (cm)  petal length (cm)  petal width (cm)  \\\n",
       "0                5.1               3.5                1.4               0.2   \n",
       "1                4.9               3.0                1.4               0.2   \n",
       "2                4.7               3.2                1.3               0.2   \n",
       "3                4.6               3.1                1.5               0.2   \n",
       "4                5.0               3.6                1.4               0.2   \n",
       "\n",
       "   target species  \n",
       "0       0  setosa  \n",
       "1       0  setosa  \n",
       "2       0  setosa  \n",
       "3       0  setosa  \n",
       "4       0  setosa  "
      ]
     },
     "execution_count": 42,
     "metadata": {},
     "output_type": "execute_result"
    }
   ],
   "source": [
    "df['species'] = df['target'].apply(lambda x: iris.target_names[x])\n",
    "df.head()"
   ]
  },
  {
   "cell_type": "markdown",
   "id": "df651866-3a0c-47fe-ba47-cb6895a2f2f6",
   "metadata": {},
   "source": [
    "##### Drop the species column since this is a clustering problem."
   ]
  },
  {
   "cell_type": "code",
   "execution_count": 49,
   "id": "d8282cc8-88de-4339-b84a-6112dfb631e6",
   "metadata": {},
   "outputs": [
    {
     "data": {
      "text/html": [
       "<div>\n",
       "<style scoped>\n",
       "    .dataframe tbody tr th:only-of-type {\n",
       "        vertical-align: middle;\n",
       "    }\n",
       "\n",
       "    .dataframe tbody tr th {\n",
       "        vertical-align: top;\n",
       "    }\n",
       "\n",
       "    .dataframe thead th {\n",
       "        text-align: right;\n",
       "    }\n",
       "</style>\n",
       "<table border=\"1\" class=\"dataframe\">\n",
       "  <thead>\n",
       "    <tr style=\"text-align: right;\">\n",
       "      <th></th>\n",
       "      <th>sepal length (cm)</th>\n",
       "      <th>sepal width (cm)</th>\n",
       "      <th>petal length (cm)</th>\n",
       "      <th>petal width (cm)</th>\n",
       "    </tr>\n",
       "  </thead>\n",
       "  <tbody>\n",
       "    <tr>\n",
       "      <th>0</th>\n",
       "      <td>5.1</td>\n",
       "      <td>3.5</td>\n",
       "      <td>1.4</td>\n",
       "      <td>0.2</td>\n",
       "    </tr>\n",
       "    <tr>\n",
       "      <th>1</th>\n",
       "      <td>4.9</td>\n",
       "      <td>3.0</td>\n",
       "      <td>1.4</td>\n",
       "      <td>0.2</td>\n",
       "    </tr>\n",
       "    <tr>\n",
       "      <th>2</th>\n",
       "      <td>4.7</td>\n",
       "      <td>3.2</td>\n",
       "      <td>1.3</td>\n",
       "      <td>0.2</td>\n",
       "    </tr>\n",
       "    <tr>\n",
       "      <th>3</th>\n",
       "      <td>4.6</td>\n",
       "      <td>3.1</td>\n",
       "      <td>1.5</td>\n",
       "      <td>0.2</td>\n",
       "    </tr>\n",
       "    <tr>\n",
       "      <th>4</th>\n",
       "      <td>5.0</td>\n",
       "      <td>3.6</td>\n",
       "      <td>1.4</td>\n",
       "      <td>0.2</td>\n",
       "    </tr>\n",
       "  </tbody>\n",
       "</table>\n",
       "</div>"
      ],
      "text/plain": [
       "   sepal length (cm)  sepal width (cm)  petal length (cm)  petal width (cm)\n",
       "0                5.1               3.5                1.4               0.2\n",
       "1                4.9               3.0                1.4               0.2\n",
       "2                4.7               3.2                1.3               0.2\n",
       "3                4.6               3.1                1.5               0.2\n",
       "4                5.0               3.6                1.4               0.2"
      ]
     },
     "execution_count": 49,
     "metadata": {},
     "output_type": "execute_result"
    }
   ],
   "source": [
    "X = df.drop(['target', 'species'], axis=1)\n",
    "X.head()"
   ]
  },
  {
   "cell_type": "markdown",
   "id": "b77151f6-d84e-4041-a1f3-d33ede94aa6e",
   "metadata": {},
   "source": [
    "#### 2. Clustering Algorithm Implementation"
   ]
  },
  {
   "cell_type": "markdown",
   "id": "444b2ebb-8f1d-4836-934f-ea3747c761ba",
   "metadata": {},
   "source": [
    "#### 2.1 KMeans Clustering"
   ]
  },
  {
   "cell_type": "markdown",
   "id": "40b43a16-b5a5-48ee-84c5-dc100c3afadd",
   "metadata": {},
   "source": [
    "KMeans is an **unsupervised machine learning algorithm** used to group data into **K clusters** based on their similarity.\n",
    "\n",
    "**How it works:**\n",
    "1. Choose the number of clusters `K`.\n",
    "2. Randomly place `K` points as initial **centroids**.\n",
    "3. Each data point is assigned to the **nearest centroid**.\n",
    "4. Recalculate the centroids (center of each cluster).\n",
    "5. Repeat steps 3 and 4 until centroids stop changing (convergence).\n",
    "\n",
    "It tries to **minimize the distance** between each point and the center of its assigned cluster.\n"
   ]
  },
  {
   "cell_type": "markdown",
   "id": "82f4be06-97cd-4eec-bb02-c865154e7946",
   "metadata": {},
   "source": [
    "##### Why is KMeans Clustering Suitable for the Iris Dataset?\n",
    "\n",
    "- The Iris dataset has **continuous numerical features** (sepal and petal lengths/widths), which are perfect for measuring distances — a key idea in KMeans.\n",
    "- The data is **well-separated into natural groups** (3 flower species), which makes it a good fit for clustering into 3 clusters.\n",
    "- It's a small dataset with only 4 features, so KMeans can run very quickly and clearly show results.\n"
   ]
  },
  {
   "cell_type": "markdown",
   "id": "7e0accd6-ed9f-4281-a561-d1c320fb89b6",
   "metadata": {},
   "source": [
    "##### Applying KMeans Clustering"
   ]
  },
  {
   "cell_type": "code",
   "execution_count": 63,
   "id": "cfa5f0b7-d0a7-42b5-898b-5d809522da54",
   "metadata": {},
   "outputs": [
    {
     "name": "stderr",
     "output_type": "stream",
     "text": [
      "C:\\Users\\reshm\\anaconda3\\Lib\\site-packages\\sklearn\\cluster\\_kmeans.py:1429: UserWarning: KMeans is known to have a memory leak on Windows with MKL, when there are less chunks than available threads. You can avoid it by setting the environment variable OMP_NUM_THREADS=1.\n",
      "  warnings.warn(\n"
     ]
    },
    {
     "data": {
      "text/html": [
       "<div>\n",
       "<style scoped>\n",
       "    .dataframe tbody tr th:only-of-type {\n",
       "        vertical-align: middle;\n",
       "    }\n",
       "\n",
       "    .dataframe tbody tr th {\n",
       "        vertical-align: top;\n",
       "    }\n",
       "\n",
       "    .dataframe thead th {\n",
       "        text-align: right;\n",
       "    }\n",
       "</style>\n",
       "<table border=\"1\" class=\"dataframe\">\n",
       "  <thead>\n",
       "    <tr style=\"text-align: right;\">\n",
       "      <th></th>\n",
       "      <th>sepal length (cm)</th>\n",
       "      <th>sepal width (cm)</th>\n",
       "      <th>petal length (cm)</th>\n",
       "      <th>petal width (cm)</th>\n",
       "      <th>target</th>\n",
       "      <th>species</th>\n",
       "      <th>kmeans_cluster</th>\n",
       "    </tr>\n",
       "  </thead>\n",
       "  <tbody>\n",
       "    <tr>\n",
       "      <th>0</th>\n",
       "      <td>5.1</td>\n",
       "      <td>3.5</td>\n",
       "      <td>1.4</td>\n",
       "      <td>0.2</td>\n",
       "      <td>0</td>\n",
       "      <td>setosa</td>\n",
       "      <td>1</td>\n",
       "    </tr>\n",
       "    <tr>\n",
       "      <th>1</th>\n",
       "      <td>4.9</td>\n",
       "      <td>3.0</td>\n",
       "      <td>1.4</td>\n",
       "      <td>0.2</td>\n",
       "      <td>0</td>\n",
       "      <td>setosa</td>\n",
       "      <td>1</td>\n",
       "    </tr>\n",
       "    <tr>\n",
       "      <th>2</th>\n",
       "      <td>4.7</td>\n",
       "      <td>3.2</td>\n",
       "      <td>1.3</td>\n",
       "      <td>0.2</td>\n",
       "      <td>0</td>\n",
       "      <td>setosa</td>\n",
       "      <td>1</td>\n",
       "    </tr>\n",
       "    <tr>\n",
       "      <th>3</th>\n",
       "      <td>4.6</td>\n",
       "      <td>3.1</td>\n",
       "      <td>1.5</td>\n",
       "      <td>0.2</td>\n",
       "      <td>0</td>\n",
       "      <td>setosa</td>\n",
       "      <td>1</td>\n",
       "    </tr>\n",
       "    <tr>\n",
       "      <th>4</th>\n",
       "      <td>5.0</td>\n",
       "      <td>3.6</td>\n",
       "      <td>1.4</td>\n",
       "      <td>0.2</td>\n",
       "      <td>0</td>\n",
       "      <td>setosa</td>\n",
       "      <td>1</td>\n",
       "    </tr>\n",
       "  </tbody>\n",
       "</table>\n",
       "</div>"
      ],
      "text/plain": [
       "   sepal length (cm)  sepal width (cm)  petal length (cm)  petal width (cm)  \\\n",
       "0                5.1               3.5                1.4               0.2   \n",
       "1                4.9               3.0                1.4               0.2   \n",
       "2                4.7               3.2                1.3               0.2   \n",
       "3                4.6               3.1                1.5               0.2   \n",
       "4                5.0               3.6                1.4               0.2   \n",
       "\n",
       "   target species  kmeans_cluster  \n",
       "0       0  setosa               1  \n",
       "1       0  setosa               1  \n",
       "2       0  setosa               1  \n",
       "3       0  setosa               1  \n",
       "4       0  setosa               1  "
      ]
     },
     "execution_count": 63,
     "metadata": {},
     "output_type": "execute_result"
    }
   ],
   "source": [
    "from sklearn.cluster import KMeans\n",
    "\n",
    "# Apply KMeans with 3 clusters\n",
    "kmeans = KMeans(n_clusters=3, random_state=42)\n",
    "kmeans.fit(X)\n",
    "\n",
    "# Add the cluster labels to the original dataframe for visualization\n",
    "df['kmeans_cluster'] = kmeans.labels_\n",
    "df.head()"
   ]
  },
  {
   "cell_type": "markdown",
   "id": "457e309b-544c-4b89-952d-2f9b7590ea4e",
   "metadata": {},
   "source": [
    "We apply KMeans to our preprocessed dataset (`X`) and set `n_clusters=3` because the Iris dataset has 3 species (Setosa, Versicolor, Virginica).  \n",
    "The algorithm assigns a **cluster label (0, 1, or 2)** to each row, which we add as a new column to the DataFrame."
   ]
  },
  {
   "cell_type": "markdown",
   "id": "4ffb093f-4e94-4798-8cfc-8a55e8b333d7",
   "metadata": {},
   "source": [
    "##### Visualizing KMeans Clusters"
   ]
  },
  {
   "cell_type": "code",
   "execution_count": 65,
   "id": "1a2f5ee0-169e-4d12-9518-b403ad843292",
   "metadata": {},
   "outputs": [
    {
     "data": {
      "image/png": "[encoded data removed]",
      "text/plain": [
       "<Figure size 800x500 with 1 Axes>"
      ]
     },
     "metadata": {},
     "output_type": "display_data"
    }
   ],
   "source": [
    "import matplotlib.pyplot as plt\n",
    "import seaborn as sns\n",
    "\n",
    "plt.figure(figsize=(8, 5))\n",
    "sns.scatterplot(x=X['petal length (cm)'], y=X['petal width (cm)'],\n",
    "                hue=df['kmeans_cluster'], palette='Set1', s=60)\n",
    "plt.title(\"KMeans Clustering on Iris Dataset\")\n",
    "plt.xlabel(\"Petal Length (cm)\")\n",
    "plt.ylabel(\"Petal Width (cm)\")\n",
    "plt.legend(title=\"Cluster\")\n",
    "plt.show()\n"
   ]
  },
  {
   "cell_type": "markdown",
   "id": "3a3ad271-cd7a-48c2-8724-b1284c763b6d",
   "metadata": {},
   "source": [
    "To make it easier to understand, we use only 2 features: **petal length** and **petal width**.  \n",
    "We plot the data points and color them based on their cluster labels from KMeans.  \n",
    "This shows how KMeans grouped similar flowers into clusters."
   ]
  },
  {
   "cell_type": "markdown",
   "id": "c2ff2bcb-1387-4544-82d3-d2f034b2a4c2",
   "metadata": {},
   "source": [
    "#### 2.2 Hierarchical Clustering"
   ]
  },
  {
   "cell_type": "markdown",
   "id": "c6ab4c99-f70d-46bf-91e1-5b3af8914efe",
   "metadata": {},
   "source": [
    "Hierarchical clustering is a type of **unsupervised learning** that builds a tree of clusters.  \n",
    "There are two types:\n",
    "- **Agglomerative** (bottom-up) – Most common: each point starts as its own cluster and merges step-by-step.\n",
    "- **Divisive** (top-down) – Starts with one big cluster and splits it.\n",
    "\n",
    "**How Agglomerative Clustering Works:**\n",
    "1. Treat each data point as its own cluster.\n",
    "2. Find the two closest clusters and merge them.\n",
    "3. Repeat until all points are merged into a **single cluster tree (dendrogram)**.\n",
    "\n",
    "This method creates a **hierarchy of clusters**, which can be visualized as a tree (dendrogram).\n"
   ]
  },
  {
   "cell_type": "markdown",
   "id": "542fdee4-609a-4b1b-ab54-cedc012b7398",
   "metadata": {},
   "source": [
    "##### Why is Hierarchical Clustering Suitable for the Iris Dataset?\n",
    "\n",
    "- The Iris dataset is **small and well-structured**, so it's easy to visualize with a dendrogram.\n",
    "- It helps to **understand how data points merge into clusters step-by-step**.\n",
    "- There is no need to pre-define the number of clusters, unlike KMeans."
   ]
  },
  {
   "cell_type": "markdown",
   "id": "ccb6c52a-533a-47c9-81c8-55ba07b288f6",
   "metadata": {},
   "source": [
    "###### Apply Hierarchical Clustering"
   ]
  },
  {
   "cell_type": "code",
   "execution_count": 79,
   "id": "66c79711-bd9e-407a-9493-e9373142694d",
   "metadata": {},
   "outputs": [
    {
     "data": {
      "text/html": [
       "<div>\n",
       "<style scoped>\n",
       "    .dataframe tbody tr th:only-of-type {\n",
       "        vertical-align: middle;\n",
       "    }\n",
       "\n",
       "    .dataframe tbody tr th {\n",
       "        vertical-align: top;\n",
       "    }\n",
       "\n",
       "    .dataframe thead th {\n",
       "        text-align: right;\n",
       "    }\n",
       "</style>\n",
       "<table border=\"1\" class=\"dataframe\">\n",
       "  <thead>\n",
       "    <tr style=\"text-align: right;\">\n",
       "      <th></th>\n",
       "      <th>sepal length (cm)</th>\n",
       "      <th>sepal width (cm)</th>\n",
       "      <th>petal length (cm)</th>\n",
       "      <th>petal width (cm)</th>\n",
       "      <th>target</th>\n",
       "      <th>species</th>\n",
       "      <th>kmeans_cluster</th>\n",
       "      <th>hierarchical_cluster</th>\n",
       "    </tr>\n",
       "  </thead>\n",
       "  <tbody>\n",
       "    <tr>\n",
       "      <th>0</th>\n",
       "      <td>5.1</td>\n",
       "      <td>3.5</td>\n",
       "      <td>1.4</td>\n",
       "      <td>0.2</td>\n",
       "      <td>0</td>\n",
       "      <td>setosa</td>\n",
       "      <td>1</td>\n",
       "      <td>1</td>\n",
       "    </tr>\n",
       "    <tr>\n",
       "      <th>1</th>\n",
       "      <td>4.9</td>\n",
       "      <td>3.0</td>\n",
       "      <td>1.4</td>\n",
       "      <td>0.2</td>\n",
       "      <td>0</td>\n",
       "      <td>setosa</td>\n",
       "      <td>1</td>\n",
       "      <td>1</td>\n",
       "    </tr>\n",
       "    <tr>\n",
       "      <th>2</th>\n",
       "      <td>4.7</td>\n",
       "      <td>3.2</td>\n",
       "      <td>1.3</td>\n",
       "      <td>0.2</td>\n",
       "      <td>0</td>\n",
       "      <td>setosa</td>\n",
       "      <td>1</td>\n",
       "      <td>1</td>\n",
       "    </tr>\n",
       "    <tr>\n",
       "      <th>3</th>\n",
       "      <td>4.6</td>\n",
       "      <td>3.1</td>\n",
       "      <td>1.5</td>\n",
       "      <td>0.2</td>\n",
       "      <td>0</td>\n",
       "      <td>setosa</td>\n",
       "      <td>1</td>\n",
       "      <td>1</td>\n",
       "    </tr>\n",
       "    <tr>\n",
       "      <th>4</th>\n",
       "      <td>5.0</td>\n",
       "      <td>3.6</td>\n",
       "      <td>1.4</td>\n",
       "      <td>0.2</td>\n",
       "      <td>0</td>\n",
       "      <td>setosa</td>\n",
       "      <td>1</td>\n",
       "      <td>1</td>\n",
       "    </tr>\n",
       "  </tbody>\n",
       "</table>\n",
       "</div>"
      ],
      "text/plain": [
       "   sepal length (cm)  sepal width (cm)  petal length (cm)  petal width (cm)  \\\n",
       "0                5.1               3.5                1.4               0.2   \n",
       "1                4.9               3.0                1.4               0.2   \n",
       "2                4.7               3.2                1.3               0.2   \n",
       "3                4.6               3.1                1.5               0.2   \n",
       "4                5.0               3.6                1.4               0.2   \n",
       "\n",
       "   target species  kmeans_cluster  hierarchical_cluster  \n",
       "0       0  setosa               1                     1  \n",
       "1       0  setosa               1                     1  \n",
       "2       0  setosa               1                     1  \n",
       "3       0  setosa               1                     1  \n",
       "4       0  setosa               1                     1  "
      ]
     },
     "execution_count": 79,
     "metadata": {},
     "output_type": "execute_result"
    }
   ],
   "source": [
    "from sklearn.cluster import AgglomerativeClustering\n",
    "\n",
    "# Apply Agglomerative Clustering with 3 clusters\n",
    "hc = AgglomerativeClustering(n_clusters=3)\n",
    "df['hierarchical_cluster'] = hc.fit_predict(X)\n",
    "df.head()"
   ]
  },
  {
   "cell_type": "markdown",
   "id": "e207c536-3f54-4d6e-9c58-2c124d9cfc78",
   "metadata": {},
   "source": [
    "We use **AgglomerativeClustering** from `sklearn` and set `n_clusters=3`.  \n",
    "This assigns each data point to one of 3 clusters, which we store in a new column."
   ]
  },
  {
   "cell_type": "markdown",
   "id": "ec009b1d-2c3e-4201-95f9-f49150d5949e",
   "metadata": {},
   "source": [
    "##### Visualizing the clustering process"
   ]
  },
  {
   "cell_type": "code",
   "execution_count": 88,
   "id": "73b23cc0-bd71-423b-acbd-40dcda641b24",
   "metadata": {},
   "outputs": [
    {
     "data": {
      "image/png": "[encoded data removed]",
      "text/plain": [
       "<Figure size 1200x600 with 1 Axes>"
      ]
     },
     "metadata": {},
     "output_type": "display_data"
    }
   ],
   "source": [
    "from scipy.cluster.hierarchy import linkage, dendrogram\n",
    "\n",
    "# Create linkage matrix\n",
    "linkage_matrix = linkage(X, method='ward')\n",
    "\n",
    "# Plot the dendrogram\n",
    "plt.figure(figsize=(12, 6))\n",
    "dendrogram(linkage_matrix, truncate_mode='level', p=5)\n",
    "plt.title(\"Hierarchical Clustering Dendrogram\")\n",
    "plt.xlabel(\"Sample Index\")\n",
    "plt.ylabel(\"Distance\")\n",
    "plt.show()"
   ]
  },
  {
   "cell_type": "markdown",
   "id": "0350204f-bc0b-48c1-a692-73e4118267fe",
   "metadata": {},
   "source": [
    "A **dendrogram** is a tree-like diagram that shows how clusters are formed.  \n",
    "We use the **Ward method** to minimize the distance between merged clusters.  \n",
    "The longer the vertical line, the more different the clusters are."
   ]
  },
  {
   "cell_type": "code",
   "execution_count": 93,
   "id": "44a73a56-6614-4d88-ab9d-9dbb8e9af583",
   "metadata": {},
   "outputs": [
    {
     "data": {
      "image/png": "[encoded data removed]",
      "text/plain": [
       "<Figure size 800x500 with 1 Axes>"
      ]
     },
     "metadata": {},
     "output_type": "display_data"
    }
   ],
   "source": [
    "plt.figure(figsize=(8, 5))\n",
    "sns.scatterplot(x=X['petal length (cm)'], y=X['petal width (cm)'],\n",
    "                hue=df['hierarchical_cluster'], palette='Set2', s=60)\n",
    "plt.title(\"Hierarchical Clustering on Iris Dataset\")\n",
    "plt.xlabel(\"Petal Length (cm)\")\n",
    "plt.ylabel(\"Petal Width (cm)\")\n",
    "plt.legend(title=\"Cluster\")\n",
    "plt.show()\n"
   ]
  },
  {
   "cell_type": "markdown",
   "id": "9b917e12-2e9f-4f45-8312-f0c5eebe3771",
   "metadata": {},
   "source": [
    "We plot the flower data using **petal length** and **petal width** again.  \n",
    "Each point is colored based on the cluster it was assigned using **Hierarchical Clustering**."
   ]
  },
  {
   "cell_type": "markdown",
   "id": "b262f369-8925-4b85-8cc8-acd330b26785",
   "metadata": {},
   "source": [
    "#### 3. Summary\n",
    "\n",
    "### Dataset Used:\n",
    "- **Iris dataset** from `sklearn.datasets`\n",
    "- Contains 150 samples of iris flowers with 4 features: sepal length, sepal width, petal length, petal width.\n",
    "\n",
    "---\n",
    "\n",
    "### Step 1: Data Loading & Preprocessing\n",
    "- Loaded the Iris dataset using `load_iris()`.\n",
    "- Displayed the first few rows of the data.\n",
    "- Dropped the `target` and `species` columns for clustering (unsupervised learning doesn't use labels).\n",
    "\n",
    "---\n",
    "\n",
    "### Step 2A: KMeans Clustering\n",
    "- Applied KMeans clustering with `n_clusters=3`.\n",
    "- Explained how KMeans works and why it's suitable for the Iris dataset.\n",
    "- Visualized the clusters using a scatter plot with petal features.\n",
    "\n",
    "---\n",
    "\n",
    "### Step 2B: Hierarchical Clustering\n",
    "- Applied Agglomerative (bottom-up) Hierarchical Clustering.\n",
    "- Explained how it builds a cluster tree.\n",
    "- Visualized the results using:\n",
    "  - A **dendrogram** (to show the merge steps)\n",
    "  - A **scatter plot** (to show the final clusters)\n"
   ]
  }
 ],
 "metadata": {
  "kernelspec": {
   "display_name": "Python [conda env:base] *",
   "language": "python",
   "name": "conda-base-py"
  },
  "language_info": {
   "codemirror_mode": {
    "name": "ipython",
    "version": 3
   },
   "file_extension": ".py",
   "mimetype": "text/x-python",
   "name": "python",
   "nbconvert_exporter": "python",
   "pygments_lexer": "ipython3",
   "version": "3.12.7"
  }
 },
 "nbformat": 4,
 "nbformat_minor": 5
}
